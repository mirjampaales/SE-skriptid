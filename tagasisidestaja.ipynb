{
 "nbformat": 4,
 "nbformat_minor": 0,
 "metadata": {
  "colab": {
   "provenance": []
  },
  "kernelspec": {
   "name": "python3",
   "display_name": "Python 3"
  },
  "language_info": {
   "name": "python"
  }
 },
 "cells": [
  {
   "cell_type": "code",
   "execution_count": 17,
   "metadata": {
    "colab": {
     "base_uri": "https://localhost:8080/"
    },
    "id": "xoJ_w9puYZep",
    "outputId": "6d38f0fa-f513-4cb2-c85d-cdfb8e938f69"
   },
   "outputs": [
    {
     "name": "stdout",
     "output_type": "stream",
     "text": [
      "Requirement already satisfied: pandas==2.1.0 in c:\\programdata\\anaconda3\\lib\\site-packages (2.1.0)\n",
      "Requirement already satisfied: pytz>=2020.1 in c:\\programdata\\anaconda3\\lib\\site-packages (from pandas==2.1.0) (2022.1)\n",
      "Requirement already satisfied: tzdata>=2022.1 in c:\\programdata\\anaconda3\\lib\\site-packages (from pandas==2.1.0) (2023.3)\n",
      "Requirement already satisfied: python-dateutil>=2.8.2 in c:\\programdata\\anaconda3\\lib\\site-packages (from pandas==2.1.0) (2.8.2)\n",
      "Requirement already satisfied: numpy>=1.22.4 in c:\\programdata\\anaconda3\\lib\\site-packages (from pandas==2.1.0) (1.26.0)\n",
      "Requirement already satisfied: six>=1.5 in c:\\programdata\\anaconda3\\lib\\site-packages (from python-dateutil>=2.8.2->pandas==2.1.0) (1.16.0)\n"
     ]
    }
   ],
   "source": [
    "! pip install pandas==2.1.0"
   ]
  },
  {
   "cell_type": "code",
   "source": [
    "import pandas as pd"
   ],
   "metadata": {
    "id": "E7Iz9ey6Yj4e"
   },
   "execution_count": 18,
   "outputs": []
  },
  {
   "cell_type": "code",
   "source": [
    "vastused_df = pd.read_csv('toores tagasiside moodleist/LTAT.03.002-Kolmanda loengu tagasiside-vastused.csv')"
   ],
   "metadata": {
    "colab": {
     "base_uri": "https://localhost:8080/",
     "height": 1000
    },
    "id": "Mo_JbFOCYew6",
    "outputId": "75090648-42cc-4ff6-b7db-aab157c7fe78"
   },
   "execution_count": 28,
   "outputs": []
  },
  {
   "cell_type": "code",
   "source": [
    "# eraldame numbri vastusest\n",
    "vastused_df['Vastus 3'] = vastused_df['Vastus 3'].str.extract('(\\d)').astype('Int64')\n",
    "vastused_df['Vastus 6'] = vastused_df['Vastus 6'].str.extract('(\\d)').astype('Int64')"
   ],
   "metadata": {
    "id": "rd-l96g1jvh1"
   },
   "execution_count": 29,
   "outputs": []
  },
  {
   "cell_type": "code",
   "source": [
    "vastused_df.info()"
   ],
   "metadata": {
    "colab": {
     "base_uri": "https://localhost:8080/"
    },
    "id": "CM2jbW-dj7fK",
    "outputId": "23235274-d72d-4014-a52a-189ace94fdf5"
   },
   "execution_count": 30,
   "outputs": [
    {
     "name": "stdout",
     "output_type": "stream",
     "text": [
      "<class 'pandas.core.frame.DataFrame'>\n",
      "RangeIndex: 208 entries, 0 to 207\n",
      "Data columns (total 14 columns):\n",
      " #   Column      Non-Null Count  Dtype \n",
      "---  ------      --------------  ----- \n",
      " 0   Perenimi    208 non-null    object\n",
      " 1   Eesnimi     208 non-null    object\n",
      " 2   Staatus     208 non-null    object\n",
      " 3   Alustatud   208 non-null    object\n",
      " 4   Lõpetatud   208 non-null    object\n",
      " 5   Aega kulus  208 non-null    object\n",
      " 6   Hinne/2.00  208 non-null    object\n",
      " 7   Tagasiside  6 non-null      object\n",
      " 8   Vastus 1    208 non-null    object\n",
      " 9   Vastus 2    208 non-null    object\n",
      " 10  Vastus 3    204 non-null    Int64 \n",
      " 11  Vastus 4    208 non-null    object\n",
      " 12  Vastus 5    208 non-null    object\n",
      " 13  Vastus 6    204 non-null    Int64 \n",
      "dtypes: Int64(2), object(12)\n",
      "memory usage: 23.3+ KB\n"
     ]
    }
   ]
  },
  {
   "cell_type": "code",
   "source": [
    "esimene_osa_df = vastused_df[['Eesnimi', 'Vastus 2', 'Vastus 3']]\n",
    "teine_osa_df = vastused_df[['Eesnimi', 'Vastus 5', 'Vastus 6']]"
   ],
   "metadata": {
    "id": "3r4-pJW3Yuz7"
   },
   "execution_count": 22,
   "outputs": []
  },
  {
   "cell_type": "code",
   "source": [
    "tulbad = ['Eesnimi', 'Tagasiside', 'Hinne']\n",
    "esimene_osa_df.columns = tulbad\n",
    "teine_osa_df.columns = tulbad"
   ],
   "metadata": {
    "id": "BX7IGMbFkSXm"
   },
   "execution_count": 23,
   "outputs": []
  },
  {
   "cell_type": "code",
   "source": [
    "esimene_osa_df.to_excel(\"neljanda loengu tagasiside 1.xlsx\", index = False)\n",
    "teine_osa_df.to_excel(\"neljanda loengu tagasiside 2.xlsx\", index = False)"
   ],
   "metadata": {
    "id": "kzhTpk3tkwP6"
   },
   "execution_count": 24,
   "outputs": []
  }
 ]
}

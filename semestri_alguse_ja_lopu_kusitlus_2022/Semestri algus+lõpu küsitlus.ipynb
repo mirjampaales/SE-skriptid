{
 "cells": [
  {
   "cell_type": "markdown",
   "metadata": {
    "id": "xU9XkIBdvZ3C"
   },
   "source": [
    "See fail tegeleb semestri alguse ja lõpu küsitluste analüüsiga.\n",
    "\n",
    "Kasutatud materjalid (bar charti label): https://www.geeksforgeeks.org/adding-value-labels-on-a-matplotlib-bar-chart/ "
   ]
  },
  {
   "cell_type": "code",
   "execution_count": 38,
   "metadata": {
    "colab": {
     "base_uri": "https://localhost:8080/"
    },
    "executionInfo": {
     "elapsed": 8581,
     "status": "ok",
     "timestamp": 1676718185843,
     "user": {
      "displayName": "Anette Habanen",
      "userId": "04324864666478201317"
     },
     "user_tz": -120
    },
    "id": "0Jm_EpFWMKrH",
    "outputId": "a8c4c232-6dec-4c14-8881-618c80975b20"
   },
   "outputs": [
    {
     "name": "stdout",
     "output_type": "stream",
     "text": [
      "Requirement already satisfied: researchpy in c:\\users\\habanen\\anaconda3\\lib\\site-packages (0.3.5)\n",
      "Requirement already satisfied: pandas in c:\\users\\habanen\\anaconda3\\lib\\site-packages (from researchpy) (1.2.4)\n",
      "Requirement already satisfied: numpy in c:\\users\\habanen\\anaconda3\\lib\\site-packages (from researchpy) (1.20.1)\n",
      "Requirement already satisfied: scipy in c:\\users\\habanen\\anaconda3\\lib\\site-packages (from researchpy) (1.6.2)\n",
      "Requirement already satisfied: statsmodels in c:\\users\\habanen\\anaconda3\\lib\\site-packages (from researchpy) (0.12.2)\n",
      "Requirement already satisfied: patsy in c:\\users\\habanen\\anaconda3\\lib\\site-packages (from researchpy) (0.5.1)\n",
      "Requirement already satisfied: python-dateutil>=2.7.3 in c:\\users\\habanen\\anaconda3\\lib\\site-packages (from pandas->researchpy) (2.8.1)\n",
      "Requirement already satisfied: pytz>=2017.3 in c:\\users\\habanen\\anaconda3\\lib\\site-packages (from pandas->researchpy) (2021.1)\n",
      "Requirement already satisfied: six>=1.5 in c:\\users\\habanen\\anaconda3\\lib\\site-packages (from python-dateutil>=2.7.3->pandas->researchpy) (1.15.0)\n",
      "Note: you may need to restart the kernel to use updated packages.\n"
     ]
    }
   ],
   "source": [
    "pip install researchpy"
   ]
  },
  {
   "cell_type": "code",
   "execution_count": 39,
   "metadata": {
    "colab": {
     "base_uri": "https://localhost:8080/"
    },
    "executionInfo": {
     "elapsed": 5445,
     "status": "ok",
     "timestamp": 1676718200312,
     "user": {
      "displayName": "Anette Habanen",
      "userId": "04324864666478201317"
     },
     "user_tz": -120
    },
    "id": "xUX8ePhUTk1Q",
    "outputId": "6fc2a797-4461-4c47-acee-940eb21ae9c5"
   },
   "outputs": [],
   "source": [
    "import pandas as pd\n",
    "import numpy as np\n",
    "from matplotlib import pyplot as plt\n",
    "\n",
    "import researchpy as rp\n",
    "import scipy.stats as stats\n",
    "\n",
    "\n",
    "algus = pd.read_csv(\"semestri_alguse_küsitlus.csv\", encoding='utf-8')\n",
    "\n",
    "lopp = pd.read_csv(\"semestri_lõpu_küsitlus.csv\", encoding='utf-8')\n",
    "\n",
    "hinded = pd.read_csv(\"tudengid_moodlest_hinded.csv\", encoding='utf-8')\n",
    "hinded[\"Kasutaja täisnimi\"] = hinded.apply(lambda row: row[\"Eesnimi\"] + \" \" + row[\"Perenimi\"], axis=1)\n",
    "hinded['Kasutaja täisnimi'] = hinded['Kasutaja täisnimi'].str.strip()\n",
    "hinded[\"Seminaride punktid kokku (Punktid)\"] = hinded[\"Seminaride punktid kokku (Punktid)\"].replace(\"-\", 0)\n",
    "hinded[\"Seminaride punktid kokku (Punktid)\"] = pd.to_numeric(hinded[\"Seminaride punktid kokku (Punktid)\"])"
   ]
  },
  {
   "cell_type": "code",
   "execution_count": 40,
   "metadata": {
    "executionInfo": {
     "elapsed": 272,
     "status": "ok",
     "timestamp": 1676718203236,
     "user": {
      "displayName": "Anette Habanen",
      "userId": "04324864666478201317"
     },
     "user_tz": -120
    },
    "id": "7gk71dYjX9cR"
   },
   "outputs": [],
   "source": [
    "def addlabels(x,y):\n",
    "    for i in range(len(x)):\n",
    "        plt.text(i, y[i]//2, y[i], ha = 'center')"
   ]
  },
  {
   "cell_type": "code",
   "execution_count": 41,
   "metadata": {
    "colab": {
     "base_uri": "https://localhost:8080/",
     "height": 350
    },
    "executionInfo": {
     "elapsed": 1870,
     "status": "ok",
     "timestamp": 1676718207082,
     "user": {
      "displayName": "Anette Habanen",
      "userId": "04324864666478201317"
     },
     "user_tz": -120
    },
    "id": "usoJ-7IDWX2V",
    "outputId": "918caa3e-5f74-43fb-bf34-b0d15b23b425"
   },
   "outputs": [
    {
     "data": {
      "image/png": "[encoded data removed]",
      "text/plain": [
       "<Figure size 504x360 with 1 Axes>"
      ]
     },
     "metadata": {
      "needs_background": "light"
     },
     "output_type": "display_data"
    }
   ],
   "source": [
    "algus_soprade_arv_tabel = algus[[\"Mitu head sõpra või tuttavat sul kursuse peale on?\"]]\n",
    "\n",
    "algus_jaotumine = [[\"0\", algus_soprade_arv_tabel.value_counts()[\"0\"]],\n",
    "       [\"1-2\", algus_soprade_arv_tabel.value_counts()[\"1-2\"]],\n",
    "       [\"3-5\", algus_soprade_arv_tabel.value_counts()[\"3-5\"]],\n",
    "       [\"6-10\", algus_soprade_arv_tabel.value_counts()[\"6-10\"]],\n",
    "       [\"11-15\", algus_soprade_arv_tabel.value_counts()[\"11-15\"]],\n",
    "       [\"16-20\", algus_soprade_arv_tabel.value_counts()[\"16-20\"]],\n",
    "       [\"20+\", algus_soprade_arv_tabel.value_counts()[\"20+\"]]]\n",
    "\n",
    "algus_jaotumine = pd.DataFrame(algus_jaotumine, columns = [\"Sõbrad\", \"Esinemissagedus\"])\n",
    "\n",
    "algus_jaotumine['colors'] = '#FDC8EA'\n",
    "\n",
    "f = plt.figure()\n",
    "f.set_figwidth(7)\n",
    "f.set_figheight(5)\n",
    "\n",
    "plt.bar(algus_jaotumine.Sõbrad, algus_jaotumine.Esinemissagedus, color=algus_jaotumine.colors)\n",
    "\n",
    "plt.title(\"Tudengite sõprade arv semestri alguses\")\n",
    "plt.ylabel(\"Esinemissagedus\")\n",
    "plt.xlabel(\"Sõprade arv\")\n",
    "addlabels(algus_jaotumine.Sõbrad, algus_jaotumine.Esinemissagedus)\n"
   ]
  },
  {
   "cell_type": "code",
   "execution_count": 42,
   "metadata": {
    "colab": {
     "base_uri": "https://localhost:8080/",
     "height": 350
    },
    "executionInfo": {
     "elapsed": 1120,
     "status": "ok",
     "timestamp": 1676718210476,
     "user": {
      "displayName": "Anette Habanen",
      "userId": "04324864666478201317"
     },
     "user_tz": -120
    },
    "id": "vBzMomC9XKdS",
    "outputId": "0596d6f2-fcd9-4ab2-9e79-da77f2fb23a1"
   },
   "outputs": [
    {
     "data": {
      "image/png": "[encoded data removed]",
      "text/plain": [
       "<Figure size 504x360 with 1 Axes>"
      ]
     },
     "metadata": {
      "needs_background": "light"
     },
     "output_type": "display_data"
    }
   ],
   "source": [
    "lopp_soprade_arv_tabel = lopp[[\"Mitu head sõpra või tuttavat sul kursuse peale on?\"]]\n",
    "\n",
    "lopp_jaotumine = [[\"0\", lopp_soprade_arv_tabel.value_counts()[\"0\"]],\n",
    "       [\"1-2\", lopp_soprade_arv_tabel.value_counts()[\"1-2\"]],\n",
    "       [\"3-5\", lopp_soprade_arv_tabel.value_counts()[\"3-5\"]],\n",
    "       [\"6-10\", lopp_soprade_arv_tabel.value_counts()[\"6-10\"]],\n",
    "       [\"11-15\", lopp_soprade_arv_tabel.value_counts()[\"11-15\"]],\n",
    "       [\"16-20\", lopp_soprade_arv_tabel.value_counts()[\"16-20\"]],\n",
    "       [\"20+\", lopp_soprade_arv_tabel.value_counts()[\"20+\"]]]\n",
    "\n",
    "lopp_jaotumine = pd.DataFrame(lopp_jaotumine, columns = [\"Sõbrad\", \"Esinemissagedus\"])\n",
    "\n",
    "lopp_jaotumine['colors'] = '#FDC8EA'\n",
    "\n",
    "f = plt.figure()\n",
    "f.set_figwidth(7)\n",
    "f.set_figheight(5)\n",
    "\n",
    "plt.bar(lopp_jaotumine.Sõbrad, lopp_jaotumine.Esinemissagedus, color=lopp_jaotumine.colors)\n",
    "\n",
    "plt.title(\"Tudengite sõprade arv semestri lõpus\")\n",
    "plt.ylabel(\"Esinemissagedus\")\n",
    "plt.xlabel(\"Sõprade arv\")\n",
    "addlabels(lopp_jaotumine.Sõbrad, lopp_jaotumine.Esinemissagedus)\n"
   ]
  },
  {
   "cell_type": "code",
   "execution_count": 43,
   "metadata": {
    "colab": {
     "base_uri": "https://localhost:8080/"
    },
    "executionInfo": {
     "elapsed": 281,
     "status": "ok",
     "timestamp": 1676718213477,
     "user": {
      "displayName": "Anette Habanen",
      "userId": "04324864666478201317"
     },
     "user_tz": -120
    },
    "id": "bEHvTZaoUrKx",
    "outputId": "40c855ed-75c4-49f5-a3e7-ae0cd2e6825f"
   },
   "outputs": [],
   "source": [
    "algus = algus[[\"Kasutaja täisnimi\", \"Mitu head sõpra või tuttavat sul kursuse peale on?\"]]\n",
    "algus.rename(columns = {'Mitu head sõpra või tuttavat sul kursuse peale on?':'Sõprade arv (algus)'}, inplace = True)\n",
    "\n",
    "lopp = lopp[[\"Kasutaja täisnimi\", \"Sugu\", \"Mitu head sõpra või tuttavat sul kursuse peale on?\"]]\n",
    "lopp.rename(columns = {'Mitu head sõpra või tuttavat sul kursuse peale on?':'Sõprade arv (lopp)'}, inplace = True)\n",
    "\n",
    "merge_tabel = pd.merge(algus, lopp, on=[\"Kasutaja täisnimi\"])\n",
    "merge_tabel = merge_tabel[[\"Kasutaja täisnimi\",\"Sugu\", 'Sõprade arv (algus)', 'Sõprade arv (lopp)']]"
   ]
  },
  {
   "cell_type": "code",
   "execution_count": 44,
   "metadata": {
    "colab": {
     "base_uri": "https://localhost:8080/",
     "height": 283
    },
    "executionInfo": {
     "elapsed": 1569,
     "status": "ok",
     "timestamp": 1676718220118,
     "user": {
      "displayName": "Anette Habanen",
      "userId": "04324864666478201317"
     },
     "user_tz": -120
    },
    "id": "3g47COjWntZh",
    "outputId": "7567aacf-35ff-467c-fd68-9fc758703575"
   },
   "outputs": [
    {
     "data": {
      "text/plain": [
       "<AxesSubplot:>"
      ]
     },
     "execution_count": 44,
     "metadata": {},
     "output_type": "execute_result"
    },
    {
     "data": {
      "image/png": "[encoded data removed]",
      "text/plain": [
       "<Figure size 432x288 with 1 Axes>"
      ]
     },
     "metadata": {
      "needs_background": "light"
     },
     "output_type": "display_data"
    }
   ],
   "source": [
    "merge_tabel[\"Sõprade arvu numbriline väärtus (algus)\"] = 0\n",
    "merge_tabel[\"Sõprade arvu numbriline väärtus (lopp)\"] = 0\n",
    "merge_tabel[\"Sõprade arvu vahe\"] = 0\n",
    "\n",
    "merge_tabel = np.array(merge_tabel)\n",
    "\n",
    "# x - selle tulba väärtust vaatame ehk nt alguse küsitluse sõprade arvu vahemikke\n",
    "# y - sinna tulpa paneme vahemikule vastava numbrilise väärtuse kirja\n",
    "def soprade_arvu_numbrilised_vaartused (x, y, data_tabel):\n",
    "    for rida in range(len(data_tabel)):\n",
    "        if data_tabel[rida][x] == \"0\":\n",
    "            data_tabel[rida][y] = 0\n",
    "        elif data_tabel[rida][x] == \"1-2\":\n",
    "            data_tabel[rida][y] = 1\n",
    "        elif data_tabel[rida][x] == \"3-5\":\n",
    "            data_tabel[rida][y] = 2\n",
    "        elif data_tabel[rida][x] == \"6-10\":\n",
    "            data_tabel[rida][y] = 3\n",
    "        elif data_tabel[rida][x] == \"11-15\":\n",
    "            data_tabel[rida][y] = 4\n",
    "        elif data_tabel[rida][x] == \"16-20\":\n",
    "            data_tabel[rida][y] = 5\n",
    "        elif data_tabel[rida][x] == \"20+\":\n",
    "            data_tabel[rida][y] = 6\n",
    "\n",
    "# Algus\n",
    "soprade_arvu_numbrilised_vaartused(2,4, merge_tabel)\n",
    "#Lõpp\n",
    "soprade_arvu_numbrilised_vaartused(3,5, merge_tabel)\n",
    "\n",
    "for rida in range(len(merge_tabel)):\n",
    "    merge_tabel[rida][6] = merge_tabel[rida][5] - merge_tabel[rida][4]\n",
    "\n",
    "    \n",
    "#merge_tabel = pd.DataFrame(merge_tabel)\n",
    "merge_tabel = pd.DataFrame(merge_tabel, columns = [\"Kasutaja täisnimi\", \"Sugu\",\"Sõprade arv (algus)\", \"Sõprade arv (lopp)\", \"Sõprade arvu number (algus)\", \"Sõprade arvu number (lopp)\", \"Muutuse vahe\"])\n",
    "merge_tabel[\"Muutuse vahe\"].value_counts(sort=True, normalize=False).plot(kind='bar')\n"
   ]
  },
  {
   "cell_type": "code",
   "execution_count": 45,
   "metadata": {},
   "outputs": [
    {
     "name": "stdout",
     "output_type": "stream",
     "text": [
      " 0    47\n",
      " 1    40\n",
      " 2    14\n",
      "-1     9\n",
      "-2     2\n",
      "-3     1\n",
      "Name: Muutuse vahe, dtype: int64\n"
     ]
    }
   ],
   "source": [
    "muutused = merge_tabel[\"Muutuse vahe\"].value_counts(sort=True, normalize=False)\n",
    "print(muutused)\n"
   ]
  },
  {
   "cell_type": "code",
   "execution_count": 46,
   "metadata": {},
   "outputs": [],
   "source": [
    "hinded_kasvamine = hinded[[\"Kasutaja täisnimi\", 'Seminaride punktid kokku (Punktid)', \"Lõpphinne (Punktid)\"]]\n",
    "hinded_sugudega = pd.merge(merge_tabel, hinded_kasvamine, on=[\"Kasutaja täisnimi\"])"
   ]
  },
  {
   "cell_type": "code",
   "execution_count": 47,
   "metadata": {},
   "outputs": [
    {
     "name": "stdout",
     "output_type": "stream",
     "text": [
      "                       Variable      N       Mean        SD        SE  \\\n",
      "0          Sõprade arv suurenes   54.0  14.046296  1.321063  0.179774   \n",
      "1  Sõprade arv sama või vähenes   59.0  13.433220  1.601922  0.208552   \n",
      "2                      combined  113.0  13.726195  1.499792  0.141089   \n",
      "\n",
      "   95% Conf.   Interval  \n",
      "0  13.685715  14.406877  \n",
      "1  13.015757  13.850683  \n",
      "2  13.446646  14.005744  \n",
      "                                  Independent t-test   results\n",
      "0  Difference (Sõprade arv suurenes - Sõprade arv...    0.6131\n",
      "1                              Degrees of freedom =   111.0000\n",
      "2                                               t =     2.2078\n",
      "3                           Two side test p value =     0.0293\n",
      "4                          Difference < 0 p value =     0.9853\n",
      "5                          Difference > 0 p value =     0.0147\n",
      "6                                       Cohen's d =     0.4158\n",
      "7                                       Hedge's g =     0.4130\n",
      "8                                  Glass's delta1 =     0.4641\n",
      "9                                Point-Biserial r =     0.2051\n"
     ]
    }
   ],
   "source": [
    "summary, results = rp.ttest(group1=hinded_sugudega[\"Seminaride punktid kokku (Punktid)\"][hinded_sugudega[\"Muutuse vahe\"] > 0], group1_name= \"Sõprade arv suurenes\",\n",
    "                            group2=hinded_sugudega[\"Seminaride punktid kokku (Punktid)\"][hinded_sugudega[\"Muutuse vahe\"] <= 0], group2_name= \"Sõprade arv sama või vähenes\")\n",
    "print(summary)\n",
    "print(results)"
   ]
  },
  {
   "cell_type": "code",
   "execution_count": 48,
   "metadata": {},
   "outputs": [
    {
     "name": "stdout",
     "output_type": "stream",
     "text": [
      "                       Variable      N       Mean        SD        SE  \\\n",
      "0          Sõprade arv suurenes   54.0  86.342593  9.763120  1.328592   \n",
      "1  Sõprade arv sama või vähenes   59.0  83.217119  9.507437  1.237763   \n",
      "2                      combined  113.0  84.710708  9.714681  0.913880   \n",
      "\n",
      "   95% Conf.   Interval  \n",
      "0  83.677774  89.007411  \n",
      "1  80.739467  85.694770  \n",
      "2  82.899971  86.521445  \n",
      "                                  Independent t-test   results\n",
      "0  Difference (Sõprade arv suurenes - Sõprade arv...    3.1255\n",
      "1                              Degrees of freedom =   111.0000\n",
      "2                                               t =     1.7233\n",
      "3                           Two side test p value =     0.0876\n",
      "4                          Difference < 0 p value =     0.9562\n",
      "5                          Difference > 0 p value =     0.0438\n",
      "6                                       Cohen's d =     0.3245\n",
      "7                                       Hedge's g =     0.3223\n",
      "8                                  Glass's delta1 =     0.3201\n",
      "9                                Point-Biserial r =     0.1614\n"
     ]
    }
   ],
   "source": [
    "summary, results = rp.ttest(group1=hinded_sugudega[\"Lõpphinne (Punktid)\"][hinded_sugudega[\"Muutuse vahe\"] > 0], group1_name= \"Sõprade arv suurenes\",\n",
    "                            group2=hinded_sugudega[\"Lõpphinne (Punktid)\"][hinded_sugudega[\"Muutuse vahe\"] <= 0], group2_name= \"Sõprade arv sama või vähenes\")\n",
    "print(summary)\n",
    "print(results)"
   ]
  },
  {
   "cell_type": "markdown",
   "metadata": {
    "id": "xC3s3nVWzbPL"
   },
   "source": [
    "----------------"
   ]
  },
  {
   "cell_type": "markdown",
   "metadata": {
    "id": "l7_-Xd8TzPl7"
   },
   "source": [
    "## Kuidas sõprade arv muutub mehi ja naisi võrreldes."
   ]
  },
  {
   "cell_type": "code",
   "execution_count": 49,
   "metadata": {
    "colab": {
     "base_uri": "https://localhost:8080/",
     "height": 302
    },
    "executionInfo": {
     "elapsed": 766,
     "status": "ok",
     "timestamp": 1676718224115,
     "user": {
      "displayName": "Anette Habanen",
      "userId": "04324864666478201317"
     },
     "user_tz": -120
    },
    "id": "Ub_74bD7sNua",
    "outputId": "96f6b323-5d15-44ac-8445-ae11a65fca79"
   },
   "outputs": [
    {
     "data": {
      "text/plain": [
       "<AxesSubplot:>"
      ]
     },
     "execution_count": 49,
     "metadata": {},
     "output_type": "execute_result"
    },
    {
     "data": {
      "image/png": "[encoded data removed]",
      "text/plain": [
       "<Figure size 432x288 with 1 Axes>"
      ]
     },
     "metadata": {
      "needs_background": "light"
     },
     "output_type": "display_data"
    }
   ],
   "source": [
    "suurenemine = merge_tabel[merge_tabel[\"Muutuse vahe\"] > 0]\n",
    "\n",
    "suurenemine = pd.DataFrame(suurenemine)\n",
    "suurenemine[\"Sugu\"].value_counts(sort=True, normalize=False).plot(kind='bar')\n"
   ]
  },
  {
   "cell_type": "code",
   "execution_count": 50,
   "metadata": {
    "colab": {
     "base_uri": "https://localhost:8080/",
     "height": 431
    },
    "executionInfo": {
     "elapsed": 273,
     "status": "ok",
     "timestamp": 1676718226497,
     "user": {
      "displayName": "Anette Habanen",
      "userId": "04324864666478201317"
     },
     "user_tz": -120
    },
    "id": "ioHPKESiyTBh",
    "outputId": "10c206fa-ad2b-4356-82b0-7e15abfa0bfd"
   },
   "outputs": [
    {
     "data": {
      "text/plain": [
       "<AxesSubplot:>"
      ]
     },
     "execution_count": 50,
     "metadata": {},
     "output_type": "execute_result"
    },
    {
     "data": {
      "image/png": "[encoded data removed]",
      "text/plain": [
       "<Figure size 432x288 with 1 Axes>"
      ]
     },
     "metadata": {
      "needs_background": "light"
     },
     "output_type": "display_data"
    }
   ],
   "source": [
    "vahenemine_sama = merge_tabel[merge_tabel[\"Muutuse vahe\"] <= 0]\n",
    "vahenemine_sama = pd.DataFrame(vahenemine_sama)\n",
    "vahenemine_sama[\"Sugu\"].value_counts(sort=True, normalize=False).plot(kind='bar')"
   ]
  },
  {
   "cell_type": "code",
   "execution_count": 51,
   "metadata": {
    "colab": {
     "base_uri": "https://localhost:8080/",
     "height": 283
    },
    "executionInfo": {
     "elapsed": 412,
     "status": "ok",
     "timestamp": 1676718228884,
     "user": {
      "displayName": "Anette Habanen",
      "userId": "04324864666478201317"
     },
     "user_tz": -120
    },
    "id": "FAgolwJkyxyJ",
    "outputId": "4f2ef96e-9b85-4e67-88e8-6a19a444ca96"
   },
   "outputs": [
    {
     "data": {
      "text/plain": [
       "<AxesSubplot:>"
      ]
     },
     "execution_count": 51,
     "metadata": {},
     "output_type": "execute_result"
    },
    {
     "data": {
      "image/png": "[encoded data removed]",
      "text/plain": [
       "<Figure size 432x288 with 1 Axes>"
      ]
     },
     "metadata": {
      "needs_background": "light"
     },
     "output_type": "display_data"
    }
   ],
   "source": [
    "naised = merge_tabel[merge_tabel[\"Sugu\"] == \"Naine\"]\n",
    "naised[\"Muutuse vahe\"].value_counts(sort=True, normalize=False).plot(kind='bar')"
   ]
  },
  {
   "cell_type": "code",
   "execution_count": 52,
   "metadata": {
    "colab": {
     "base_uri": "https://localhost:8080/",
     "height": 283
    },
    "executionInfo": {
     "elapsed": 297,
     "status": "ok",
     "timestamp": 1676718231500,
     "user": {
      "displayName": "Anette Habanen",
      "userId": "04324864666478201317"
     },
     "user_tz": -120
    },
    "id": "eZX1C9PlzCYr",
    "outputId": "7ecbab06-d884-40d1-e877-26590587db0c"
   },
   "outputs": [
    {
     "data": {
      "text/plain": [
       "<AxesSubplot:>"
      ]
     },
     "execution_count": 52,
     "metadata": {},
     "output_type": "execute_result"
    },
    {
     "data": {
      "image/png": "[encoded data removed]",
      "text/plain": [
       "<Figure size 432x288 with 1 Axes>"
      ]
     },
     "metadata": {
      "needs_background": "light"
     },
     "output_type": "display_data"
    }
   ],
   "source": [
    "mehed = merge_tabel[merge_tabel[\"Sugu\"] == \"Mees\"]\n",
    "mehed[\"Muutuse vahe\"].value_counts(sort=True, normalize=False).plot(kind='bar')"
   ]
  },
  {
   "cell_type": "code",
   "execution_count": 53,
   "metadata": {
    "colab": {
     "base_uri": "https://localhost:8080/"
    },
    "executionInfo": {
     "elapsed": 259,
     "status": "ok",
     "timestamp": 1676718402874,
     "user": {
      "displayName": "Anette Habanen",
      "userId": "04324864666478201317"
     },
     "user_tz": -120
    },
    "id": "tm-24HXFL7ch",
    "outputId": "007098dd-512c-49ee-d0ca-59c6be537f66"
   },
   "outputs": [
    {
     "name": "stdout",
     "output_type": "stream",
     "text": [
      "   Variable      N      Mean        SD        SE  95% Conf.  Interval\n",
      "0      Mees   80.0  0.462500  0.927003  0.103642   0.256205  0.668795\n",
      "1     Naine   31.0  0.580645  0.764818  0.137365   0.300108  0.861183\n",
      "2  combined  111.0  0.495495  0.882907  0.083802   0.329420  0.661571\n",
      "             Independent t-test   results\n",
      "0  Difference (Mees - Naine) =    -0.1181\n",
      "1         Degrees of freedom =   109.0000\n",
      "2                          t =    -0.6308\n",
      "3      Two side test p value =     0.5295\n",
      "4     Difference < 0 p value =     0.2648\n",
      "5     Difference > 0 p value =     0.7352\n",
      "6                  Cohen's d =    -0.1334\n",
      "7                  Hedge's g =    -0.1325\n",
      "8             Glass's delta1 =    -0.1274\n",
      "9           Point-Biserial r =    -0.0603\n"
     ]
    }
   ],
   "source": [
    "summary, results = rp.ttest(group1= merge_tabel[\"Muutuse vahe\"][merge_tabel[\"Sugu\"] == \"Mees\"], group1_name= \"Mees\",\n",
    "                            group2= merge_tabel[\"Muutuse vahe\"][merge_tabel[\"Sugu\"] == \"Naine\"], group2_name= \"Naine\")\n",
    "print(summary)\n",
    "print(results)\n",
    "\n",
    "# Vastus\n",
    "# Mees   80 tudengit 0.462500  \n",
    "# Naine   31 tudengit 0.580645 \n",
    "# p = 0.5295"
   ]
  },
  {
   "cell_type": "code",
   "execution_count": 54,
   "metadata": {},
   "outputs": [],
   "source": [
    "lopp = pd.DataFrame(lopp)\n",
    "lopp[\"Sõprade arv lõpus (number)\"] = 0\n",
    "lopp = np.array(lopp)\n",
    "soprade_arvu_numbrilised_vaartused(2,3, lopp)\n",
    "lopp = pd.DataFrame(lopp, columns = [\"Kasutaja täisnimi\", \"Sugu\", \"Sõprade arv (lopp)\", \"Sõprade arv lõpus (number)\"])\n",
    "\n",
    "hinded = hinded[[\"Kasutaja täisnimi\",  'Seminaride punktid kokku (Punktid)', \"Lõpphinne (Punktid)\"]]\n",
    "hinded_sugudega = pd.merge(lopp, hinded, on=[\"Kasutaja täisnimi\"])"
   ]
  },
  {
   "cell_type": "code",
   "execution_count": 55,
   "metadata": {},
   "outputs": [
    {
     "name": "stdout",
     "output_type": "stream",
     "text": [
      "   Variable      N       Mean         SD        SE  95% Conf.   Interval\n",
      "0     Mehed  116.0  83.499397  12.116128  1.124954  81.271079  85.727714\n",
      "1    Naised   43.0  85.673023   9.070849  1.383292  82.881428  88.464619\n",
      "2  combined  159.0  84.087233  11.386771  0.903030  82.303666  85.870800\n",
      "               Independent t-test   results\n",
      "0  Difference (Mehed - Naised) =    -2.1736\n",
      "1           Degrees of freedom =   157.0000\n",
      "2                            t =    -1.0697\n",
      "3        Two side test p value =     0.2864\n",
      "4       Difference < 0 p value =     0.1432\n",
      "5       Difference > 0 p value =     0.8568\n",
      "6                    Cohen's d =    -0.1910\n",
      "7                    Hedge's g =    -0.1901\n",
      "8               Glass's delta1 =    -0.1794\n",
      "9             Point-Biserial r =    -0.0851\n"
     ]
    }
   ],
   "source": [
    "summary, results = rp.ttest(group1= hinded_sugudega[\"Lõpphinne (Punktid)\"][hinded_sugudega[\"Sugu\"] == \"Mees\"], group1_name= \"Mehed\",\n",
    "                            group2= hinded_sugudega[\"Lõpphinne (Punktid)\"][hinded_sugudega[\"Sugu\"] == \"Naine\"], group2_name= \"Naised\")\n",
    "print(summary)\n",
    "print(results)\n",
    "\n",
    "# Mehed  116 tudengit 83.499397  \n",
    "# Naised   43 tudengit 85.673023   \n",
    "# p = 0.2864"
   ]
  },
  {
   "cell_type": "code",
   "execution_count": 56,
   "metadata": {},
   "outputs": [
    {
     "name": "stdout",
     "output_type": "stream",
     "text": [
      "   Variable      N       Mean         SD        SE  95% Conf.   Interval\n",
      "0     Mehed  116.0  83.499397  12.116128  1.124954  81.271079  85.727714\n",
      "1    Naised   43.0  85.673023   9.070849  1.383292  82.881428  88.464619\n",
      "2  combined  159.0  84.087233  11.386771  0.903030  82.303666  85.870800\n",
      "               Independent t-test   results\n",
      "0  Difference (Mehed - Naised) =    -2.1736\n",
      "1           Degrees of freedom =   157.0000\n",
      "2                            t =    -1.0697\n",
      "3        Two side test p value =     0.2864\n",
      "4       Difference < 0 p value =     0.1432\n",
      "5       Difference > 0 p value =     0.8568\n",
      "6                    Cohen's d =    -0.1910\n",
      "7                    Hedge's g =    -0.1901\n",
      "8               Glass's delta1 =    -0.1794\n",
      "9             Point-Biserial r =    -0.0851\n"
     ]
    }
   ],
   "source": [
    "summary, results = rp.ttest(group1= hinded_sugudega[\"Lõpphinne (Punktid)\"][hinded_sugudega[\"Sugu\"] == \"Mees\"], group1_name= \"Mehed\",\n",
    "                            group2= hinded_sugudega[\"Lõpphinne (Punktid)\"][hinded_sugudega[\"Sugu\"] == \"Naine\"], group2_name= \"Naised\")\n",
    "print(summary)\n",
    "print(results)"
   ]
  },
  {
   "cell_type": "code",
   "execution_count": 57,
   "metadata": {},
   "outputs": [
    {
     "data": {
      "text/plain": [
       "Text(0.5, 0, 'Sõprade arv')"
      ]
     },
     "execution_count": 57,
     "metadata": {},
     "output_type": "execute_result"
    },
    {
     "data": {
      "image/png": "[encoded data removed]",
      "text/plain": [
       "<Figure size 1080x432 with 1 Axes>"
      ]
     },
     "metadata": {
      "needs_background": "light"
     },
     "output_type": "display_data"
    }
   ],
   "source": [
    "sobrad_seminaris = hinded_sugudega[[\"Sõprade arv lõpus (number)\", \"Seminaride punktid kokku (Punktid)\"]]\n",
    "sobrad_seminaris = pd.DataFrame(sobrad_seminaris)\n",
    "sobrad_seminaris[\"Seminaride punktid kokku (Punktid)\"] = sobrad_seminaris[\"Seminaride punktid kokku (Punktid)\"].replace(\"-\", 0)\n",
    "sobrad_seminaris[\"Seminaride punktid kokku (Punktid)\"] = pd.to_numeric(sobrad_seminaris[\"Seminaride punktid kokku (Punktid)\"])\n",
    "sobrad_seminaris.sort_values(by=\"Seminaride punktid kokku (Punktid)\")\n",
    "\n",
    "f = plt.figure()\n",
    "f.set_figwidth(15)\n",
    "f.set_figheight(6)\n",
    "\n",
    "plt.plot(sobrad_seminaris[\"Sõprade arv lõpus (number)\"], sobrad_seminaris[\"Seminaride punktid kokku (Punktid)\"], 'o', color='blue', alpha = 1/3);\n",
    "\n",
    "plt.title(\"Tudengite sõprade arvu seos seminaris käimisega\")\n",
    "plt.ylabel(\"Seminaris käimise punktisumma\")\n",
    "plt.xlabel(\"Sõprade arv\")\n"
   ]
  },
  {
   "cell_type": "code",
   "execution_count": 58,
   "metadata": {},
   "outputs": [
    {
     "data": {
      "text/plain": [
       "(0.15525276470216642, 0.04923766179814547)"
      ]
     },
     "execution_count": 58,
     "metadata": {},
     "output_type": "execute_result"
    }
   ],
   "source": [
    "stats.pearsonr(sobrad_seminaris[\"Sõprade arv lõpus (number)\"], \n",
    "               sobrad_seminaris[\"Seminaride punktid kokku (Punktid)\"])"
   ]
  }
 ],
 "metadata": {
  "colab": {
   "authorship_tag": "ABX9TyPxj4l4liP2Pw3+jhQjMrXC",
   "provenance": []
  },
  "kernelspec": {
   "display_name": "Python 3",
   "language": "python",
   "name": "python3"
  },
  "language_info": {
   "codemirror_mode": {
    "name": "ipython",
    "version": 3
   },
   "file_extension": ".py",
   "mimetype": "text/x-python",
   "name": "python",
   "nbconvert_exporter": "python",
   "pygments_lexer": "ipython3",
   "version": "3.8.8"
  }
 },
 "nbformat": 4,
 "nbformat_minor": 1
}

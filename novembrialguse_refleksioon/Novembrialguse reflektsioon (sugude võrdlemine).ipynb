{
 "cells": [
  {
   "cell_type": "code",
   "execution_count": 19,
   "id": "4fbdb7e2",
   "metadata": {},
   "outputs": [
    {
     "name": "stdout",
     "output_type": "stream",
     "text": [
      "Requirement already satisfied: researchpy in c:\\users\\habanen\\anaconda3\\lib\\site-packages (0.3.5)\n",
      "Requirement already satisfied: pandas in c:\\users\\habanen\\anaconda3\\lib\\site-packages (from researchpy) (1.2.4)\n",
      "Requirement already satisfied: scipy in c:\\users\\habanen\\anaconda3\\lib\\site-packages (from researchpy) (1.6.2)\n",
      "Requirement already satisfied: numpy in c:\\users\\habanen\\anaconda3\\lib\\site-packages (from researchpy) (1.20.1)\n",
      "Requirement already satisfied: patsy in c:\\users\\habanen\\anaconda3\\lib\\site-packages (from researchpy) (0.5.1)\n",
      "Requirement already satisfied: statsmodels in c:\\users\\habanen\\anaconda3\\lib\\site-packages (from researchpy) (0.12.2)\n",
      "Requirement already satisfied: python-dateutil>=2.7.3 in c:\\users\\habanen\\anaconda3\\lib\\site-packages (from pandas->researchpy) (2.8.1)\n",
      "Requirement already satisfied: pytz>=2017.3 in c:\\users\\habanen\\anaconda3\\lib\\site-packages (from pandas->researchpy) (2021.1)\n",
      "Requirement already satisfied: six>=1.5 in c:\\users\\habanen\\anaconda3\\lib\\site-packages (from python-dateutil>=2.7.3->pandas->researchpy) (1.15.0)\n",
      "Note: you may need to restart the kernel to use updated packages.\n"
     ]
    }
   ],
   "source": [
    "pip install researchpy"
   ]
  },
  {
   "cell_type": "code",
   "execution_count": 20,
   "id": "cfeaf2f3",
   "metadata": {},
   "outputs": [
    {
     "name": "stdout",
     "output_type": "stream",
     "text": [
      "     Column9  Column10  Column11  Column12  Column13  Column14 Column39  \\\n",
      "9          5         3         4         2         2         1       A1   \n",
      "10         3         2         4         1         4         1       A1   \n",
      "12         4         3         3         2         3         2       A1   \n",
      "13         3         4         3         4         2         1       A1   \n",
      "15         4         3         3         2         2         1       A1   \n",
      "..       ...       ...       ...       ...       ...       ...      ...   \n",
      "445        4         2         2         1         4         1       A1   \n",
      "446        4         4         2         3         1         1       A1   \n",
      "449        4         4         4         1         1         1       A1   \n",
      "453        5         5         5         2         2         1       A1   \n",
      "462        3         2         1         4         1         4       A1   \n",
      "\n",
      "    Column40  Column12reverse  Column13reverse  Column14reverse  kuuluvusskoor  \n",
      "9          Y                4                4                5             25  \n",
      "10         Y                5                2                5             21  \n",
      "12         Y                4                3                4             21  \n",
      "13         Y                2                4                5             21  \n",
      "15         Y                4                4                5             23  \n",
      "..       ...              ...              ...              ...            ...  \n",
      "445        Y                5                2                5             20  \n",
      "446        Y                3                5                5             23  \n",
      "449        Y                5                5                5             27  \n",
      "453        Y                4                4                5             28  \n",
      "462        Y                2                5                2             15  \n",
      "\n",
      "[225 rows x 12 columns]\n"
     ]
    }
   ],
   "source": [
    "import pandas as pd\n",
    "import numpy as np\n",
    "import researchpy as rp\n",
    "\n",
    "kuuluvus = pd.read_excel(\"kuuluvus_ja_sugu.xlsx\")\n",
    "kuuluvus = kuuluvus[kuuluvus[\"Column9\"] != \"{question_not_shown}\"]\n",
    "kuuluvus = kuuluvus.drop(0)\n",
    "kuuluvus = kuuluvus.drop(1)\n",
    "kuuluvus = kuuluvus.drop(455)\n",
    "kuuluvus = kuuluvus[kuuluvus[\"Column40\"] == \"Y\"] # Y - yes (luba kasutada andmeid)\n",
    "\n",
    "kuuluvus = kuuluvus.replace(\"5\", 5)\n",
    "kuuluvus = kuuluvus.replace(\"4\", 4)\n",
    "kuuluvus = kuuluvus.replace(\"3\", 3)\n",
    "kuuluvus = kuuluvus.replace(\"2\", 2)\n",
    "kuuluvus = kuuluvus.replace(\"1\", 1)\n",
    "\n",
    "kuuluvus['Column12reverse'] = kuuluvus.apply(lambda row: abs(row.Column12-6), axis=1)\n",
    "kuuluvus['Column13reverse'] = kuuluvus.apply(lambda row: abs(row.Column13-6), axis=1)\n",
    "kuuluvus['Column14reverse'] = kuuluvus.apply(lambda row: abs(row.Column14-6), axis=1)\n",
    "\n",
    "kuuluvus['kuuluvusskoor'] = kuuluvus.apply(lambda row: row.Column9 + row.Column10 + row.Column11 + row.Column12reverse + row.Column13reverse + row.Column14reverse, axis=1)\n",
    "\n",
    "\n",
    "print(kuuluvus)"
   ]
  },
  {
   "cell_type": "code",
   "execution_count": 21,
   "id": "5e112506",
   "metadata": {},
   "outputs": [
    {
     "name": "stdout",
     "output_type": "stream",
     "text": [
      "     Column9  Column10  Column11  Column12  Column13  Column14 Column39  \\\n",
      "20         4         4         4         2         2         2       A2   \n",
      "26         4         4         4         2         2         2       A2   \n",
      "27         5         5         5         2         2         1       A2   \n",
      "30         4         2         3         3         2         1       A2   \n",
      "31         5         4         4         2         1         1       A2   \n",
      "..       ...       ...       ...       ...       ...       ...      ...   \n",
      "392        4         4         5         2         1         1       A2   \n",
      "396        3         1         2         3         5         3       A2   \n",
      "399        4         4         2         4         4         2       A2   \n",
      "423        4         3         4         2         2         2       A2   \n",
      "432        4         4         4         3         2         1       A2   \n",
      "\n",
      "    Column40  Column12reverse  Column13reverse  Column14reverse  kuuluvusskoor  \n",
      "20         Y                4                4                4             24  \n",
      "26         Y                4                4                4             24  \n",
      "27         Y                4                4                5             28  \n",
      "30         Y                3                4                5             21  \n",
      "31         Y                4                5                5             27  \n",
      "..       ...              ...              ...              ...            ...  \n",
      "392        Y                4                5                5             27  \n",
      "396        Y                3                1                3             13  \n",
      "399        Y                2                2                4             18  \n",
      "423        Y                4                4                4             23  \n",
      "432        Y                3                4                5             24  \n",
      "\n",
      "[63 rows x 12 columns]\n"
     ]
    }
   ],
   "source": [
    "naised = kuuluvus[kuuluvus[\"Column39\"] != \"A1\"]\n",
    "print(naised)"
   ]
  },
  {
   "cell_type": "code",
   "execution_count": 22,
   "id": "c9df6a2a",
   "metadata": {},
   "outputs": [
    {
     "name": "stdout",
     "output_type": "stream",
     "text": [
      "     Column9  Column10  Column11  Column12  Column13  Column14 Column39  \\\n",
      "9          5         3         4         2         2         1       A1   \n",
      "10         3         2         4         1         4         1       A1   \n",
      "12         4         3         3         2         3         2       A1   \n",
      "13         3         4         3         4         2         1       A1   \n",
      "15         4         3         3         2         2         1       A1   \n",
      "..       ...       ...       ...       ...       ...       ...      ...   \n",
      "445        4         2         2         1         4         1       A1   \n",
      "446        4         4         2         3         1         1       A1   \n",
      "449        4         4         4         1         1         1       A1   \n",
      "453        5         5         5         2         2         1       A1   \n",
      "462        3         2         1         4         1         4       A1   \n",
      "\n",
      "    Column40  Column12reverse  Column13reverse  Column14reverse  kuuluvusskoor  \n",
      "9          Y                4                4                5             25  \n",
      "10         Y                5                2                5             21  \n",
      "12         Y                4                3                4             21  \n",
      "13         Y                2                4                5             21  \n",
      "15         Y                4                4                5             23  \n",
      "..       ...              ...              ...              ...            ...  \n",
      "445        Y                5                2                5             20  \n",
      "446        Y                3                5                5             23  \n",
      "449        Y                5                5                5             27  \n",
      "453        Y                4                4                5             28  \n",
      "462        Y                2                5                2             15  \n",
      "\n",
      "[162 rows x 12 columns]\n"
     ]
    }
   ],
   "source": [
    "mehed = kuuluvus[kuuluvus[\"Column39\"] == \"A1\"]\n",
    "print(mehed)"
   ]
  },
  {
   "cell_type": "code",
   "execution_count": 23,
   "id": "cc2fe6e4",
   "metadata": {},
   "outputs": [
    {
     "name": "stdout",
     "output_type": "stream",
     "text": [
      "3.746031746031746\n",
      "3.7839506172839505\n"
     ]
    }
   ],
   "source": [
    "# Palun märgi, mil määral nõustud järgnevate väidetega. [Ma leian, et teised peavad minust lugu.]\n",
    "print(naised[\"Column9\"].mean())\n",
    "print(mehed[\"Column9\"].mean())"
   ]
  },
  {
   "cell_type": "code",
   "execution_count": 24,
   "id": "ef0ceed6",
   "metadata": {},
   "outputs": [
    {
     "name": "stdout",
     "output_type": "stream",
     "text": [
      "3.142857142857143\n",
      "3.1419753086419755\n"
     ]
    }
   ],
   "source": [
    "# Palun märgi, mil määral nõustud järgnevate väidetega. [Ma leian kergesti sõpru.]\n",
    "print(naised[\"Column10\"].mean())\n",
    "print(mehed[\"Column10\"].mean())"
   ]
  },
  {
   "cell_type": "code",
   "execution_count": 25,
   "id": "b9613f85",
   "metadata": {},
   "outputs": [
    {
     "name": "stdout",
     "output_type": "stream",
     "text": [
      "3.3968253968253967\n",
      "3.314814814814815\n"
     ]
    }
   ],
   "source": [
    "# Palun märgi, mil määral nõustud järgnevate väidetega. [Ma tunnen, et olen osa sellest kursusest.]\n",
    "print(naised[\"Column11\"].mean())\n",
    "print(mehed[\"Column11\"].mean())"
   ]
  },
  {
   "cell_type": "code",
   "execution_count": 26,
   "id": "63c09879",
   "metadata": {},
   "outputs": [
    {
     "name": "stdout",
     "output_type": "stream",
     "text": [
      "3.3492063492063493\n",
      "3.7962962962962963\n"
     ]
    }
   ],
   "source": [
    "# Palun märgi, mil määral nõustud järgnevate väidetega. [Ma tunnen end koolis kohmaka ja kohatuna.]\n",
    "print(naised[\"Column12reverse\"].mean())\n",
    "print(mehed[\"Column12reverse\"].mean())"
   ]
  },
  {
   "cell_type": "code",
   "execution_count": 27,
   "id": "5d1066b7",
   "metadata": {},
   "outputs": [
    {
     "name": "stdout",
     "output_type": "stream",
     "text": [
      "          Variable      N      Mean        SD        SE  95% Conf.  Interval\n",
      "0   Naise kuuluvus   63.0  3.349206  1.049712  0.132251   3.084840  3.613573\n",
      "1  Meeste kuuluvus  162.0  3.796296  1.010128  0.079363   3.639569  3.953023\n",
      "2         combined  225.0  3.671111  1.038677  0.069245   3.534656  3.807566\n",
      "                                 Independent t-test   results\n",
      "0  Difference (Naise kuuluvus - Meeste kuuluvus) =    -0.4471\n",
      "1                             Degrees of freedom =   223.0000\n",
      "2                                              t =    -2.9484\n",
      "3                          Two side test p value =     0.0035\n",
      "4                         Difference < 0 p value =     0.0018\n",
      "5                         Difference > 0 p value =     0.9982\n",
      "6                                      Cohen's d =    -0.4378\n",
      "7                                      Hedge's g =    -0.4363\n",
      "8                                 Glass's delta1 =    -0.4259\n",
      "9                               Point-Biserial r =    -0.1937\n"
     ]
    }
   ],
   "source": [
    "summary, results = rp.ttest(group1= naised[\"Column12reverse\"], group1_name= \"Naise kuuluvus\",\n",
    "                            group2= mehed[\"Column12reverse\"], group2_name= \"Meeste kuuluvus\")\n",
    "print(summary)\n",
    "print(results)"
   ]
  },
  {
   "cell_type": "code",
   "execution_count": 28,
   "id": "5a3333ea",
   "metadata": {},
   "outputs": [
    {
     "name": "stdout",
     "output_type": "stream",
     "text": [
      "3.2222222222222223\n",
      "3.6728395061728394\n"
     ]
    }
   ],
   "source": [
    "# Palun märgi, mil määral nõustud järgnevate väidetega. [Ma tunnen end ülikoolis üksikuna.]\n",
    "print(naised[\"Column13reverse\"].mean())\n",
    "print(mehed[\"Column13reverse\"].mean())"
   ]
  },
  {
   "cell_type": "code",
   "execution_count": 29,
   "id": "25e48ad2",
   "metadata": {},
   "outputs": [
    {
     "name": "stdout",
     "output_type": "stream",
     "text": [
      "          Variable      N      Mean        SD        SE  95% Conf.  Interval\n",
      "0   Naise kuuluvus   63.0  3.222222  1.197369  0.150854   2.920669  3.523776\n",
      "1  Meeste kuuluvus  162.0  3.672840  1.130219  0.088798   3.497480  3.848199\n",
      "2         combined  225.0  3.546667  1.164505  0.077634   3.393681  3.699652\n",
      "                                 Independent t-test   results\n",
      "0  Difference (Naise kuuluvus - Meeste kuuluvus) =    -0.4506\n",
      "1                             Degrees of freedom =   223.0000\n",
      "2                                              t =    -2.6407\n",
      "3                          Two side test p value =     0.0089\n",
      "4                         Difference < 0 p value =     0.0044\n",
      "5                         Difference > 0 p value =     0.9956\n",
      "6                                      Cohen's d =    -0.3921\n",
      "7                                      Hedge's g =    -0.3908\n",
      "8                                 Glass's delta1 =    -0.3763\n",
      "9                               Point-Biserial r =    -0.1741\n"
     ]
    }
   ],
   "source": [
    "summary, results = rp.ttest(group1= naised[\"Column13reverse\"], group1_name= \"Naise kuuluvus\",\n",
    "                            group2= mehed[\"Column13reverse\"], group2_name= \"Meeste kuuluvus\")\n",
    "print(summary)\n",
    "print(results)"
   ]
  },
  {
   "cell_type": "code",
   "execution_count": 30,
   "id": "fd3957bd",
   "metadata": {},
   "outputs": [
    {
     "name": "stdout",
     "output_type": "stream",
     "text": [
      "4.380952380952381\n",
      "4.537037037037037\n"
     ]
    }
   ],
   "source": [
    "# Palun märgi, mil määral nõustud järgnevate väidetega. [Ma tunnen end ülikoolis tõrjutuna.]\n",
    "print(naised[\"Column14reverse\"].mean())\n",
    "print(mehed[\"Column14reverse\"].mean())"
   ]
  },
  {
   "cell_type": "code",
   "execution_count": 31,
   "id": "1df5e6ec",
   "metadata": {},
   "outputs": [
    {
     "name": "stdout",
     "output_type": "stream",
     "text": [
      "     Column9  Column10  Column11  Column12  Column13  Column14 Column39  \\\n",
      "9          5         3         4         2         2         1       A1   \n",
      "10         3         2         4         1         4         1       A1   \n",
      "12         4         3         3         2         3         2       A1   \n",
      "13         3         4         3         4         2         1       A1   \n",
      "15         4         3         3         2         2         1       A1   \n",
      "..       ...       ...       ...       ...       ...       ...      ...   \n",
      "445        4         2         2         1         4         1       A1   \n",
      "446        4         4         2         3         1         1       A1   \n",
      "449        4         4         4         1         1         1       A1   \n",
      "453        5         5         5         2         2         1       A1   \n",
      "462        3         2         1         4         1         4       A1   \n",
      "\n",
      "    Column40  Column12reverse  Column13reverse  Column14reverse  kuuluvusskoor  \n",
      "9          Y                4                4                5             25  \n",
      "10         Y                5                2                5             21  \n",
      "12         Y                4                3                4             21  \n",
      "13         Y                2                4                5             21  \n",
      "15         Y                4                4                5             23  \n",
      "..       ...              ...              ...              ...            ...  \n",
      "445        Y                5                2                5             20  \n",
      "446        Y                3                5                5             23  \n",
      "449        Y                5                5                5             27  \n",
      "453        Y                4                4                5             28  \n",
      "462        Y                2                5                2             15  \n",
      "\n",
      "[225 rows x 12 columns]\n"
     ]
    }
   ],
   "source": [
    "kuuluvus['kuuluvusskoor'] = kuuluvus.apply(lambda row: row.Column9 + row.Column10 + row.Column11 + row.Column12reverse + row.Column13reverse + row.Column14reverse, axis=1)\n",
    "\n",
    "print(kuuluvus)"
   ]
  },
  {
   "cell_type": "code",
   "execution_count": 32,
   "id": "c71be600",
   "metadata": {},
   "outputs": [
    {
     "name": "stdout",
     "output_type": "stream",
     "text": [
      "Naised:\n",
      "21.238095238095237\n",
      "Mehed:\n",
      "22.246913580246915\n"
     ]
    }
   ],
   "source": [
    "print(\"Naised:\")\n",
    "print(naised[\"kuuluvusskoor\"].mean())\n",
    "print(\"Mehed:\")\n",
    "print(mehed[\"kuuluvusskoor\"].mean())"
   ]
  },
  {
   "cell_type": "code",
   "execution_count": 33,
   "id": "14d43b71",
   "metadata": {},
   "outputs": [
    {
     "name": "stdout",
     "output_type": "stream",
     "text": [
      "          Variable      N       Mean        SD        SE  95% Conf.   Interval\n",
      "0   Naise kuuluvus   63.0  21.238095  4.376308  0.551363  20.135936  22.340254\n",
      "1  Meeste kuuluvus  162.0  22.246914  4.084605  0.320917  21.613164  22.880663\n",
      "2         combined  225.0  21.964444  4.183148  0.278877  21.414887  22.514002\n",
      "                                 Independent t-test   results\n",
      "0  Difference (Naise kuuluvus - Meeste kuuluvus) =    -1.0088\n",
      "1                             Degrees of freedom =   223.0000\n",
      "2                                              t =    -1.6302\n",
      "3                          Two side test p value =     0.1045\n",
      "4                         Difference < 0 p value =     0.0522\n",
      "5                         Difference > 0 p value =     0.9478\n",
      "6                                      Cohen's d =    -0.2421\n",
      "7                                      Hedge's g =    -0.2412\n",
      "8                                 Glass's delta1 =    -0.2305\n",
      "9                               Point-Biserial r =    -0.1085\n"
     ]
    }
   ],
   "source": [
    "summary, results = rp.ttest(group1= naised[\"kuuluvusskoor\"], group1_name= \"Naise kuuluvus\",\n",
    "                            group2= mehed[\"kuuluvusskoor\"], group2_name= \"Meeste kuuluvus\")\n",
    "print(summary)\n",
    "print(results)"
   ]
  },
  {
   "cell_type": "code",
   "execution_count": 34,
   "id": "5e64d70e",
   "metadata": {},
   "outputs": [
    {
     "data": {
      "text/plain": [
       "<matplotlib.legend.Legend at 0x2459decd700>"
      ]
     },
     "execution_count": 34,
     "metadata": {},
     "output_type": "execute_result"
    },
    {
     "data": {
      "image/png": "[encoded data removed]",
      "text/plain": [
       "<Figure size 720x360 with 1 Axes>"
      ]
     },
     "metadata": {
      "needs_background": "light"
     },
     "output_type": "display_data"
    }
   ],
   "source": [
    "import matplotlib.pyplot as plt\n",
    "\n",
    "f = plt.figure()\n",
    "f.set_figwidth(10)\n",
    "f.set_figheight(5)\n",
    "\n",
    "n, bins, patches = plt.hist([naised[\"kuuluvusskoor\"], mehed[\"kuuluvusskoor\"]], bins = 10, color=['#F4C8FD','#C8CDFD'])\n",
    "plt.ylabel(\"Esinemistearv\")\n",
    "plt.xlabel(\"Kuuluvusskoor\")\n",
    "plt.xticks(bins)\n",
    "plt.title(\"Tudengite kuuluvustunde skooride jaotus 2022. aastal\")\n",
    "\n",
    "# Graafiku legendi moodustamine https://stackoverflow.com/questions/57340415/matplotlib-bar-plot-add-legend-from-categories-dataframe-column\n",
    "varvid = {'naised':'#F4C8FD', 'mehed':'#C8CDFD'}         \n",
    "tingimused = list(varvid.keys())\n",
    "kastid = [plt.Rectangle((0,0),1,1, color=varvid[tingimus]) for tingimus in tingimused]\n",
    "plt.legend(kastid, tingimused)"
   ]
  },
  {
   "cell_type": "code",
   "execution_count": 35,
   "id": "fa19a052",
   "metadata": {},
   "outputs": [
    {
     "data": {
      "image/png": "[encoded data removed]",
      "text/plain": [
       "<Figure size 648x360 with 1 Axes>"
      ]
     },
     "metadata": {
      "needs_background": "light"
     },
     "output_type": "display_data"
    }
   ],
   "source": [
    "import matplotlib.pyplot as plt\n",
    "from matplotlib.ticker import PercentFormatter\n",
    "\n",
    "f = plt.figure()\n",
    "f.set_figwidth(9)\n",
    "f.set_figheight(5)\n",
    "\n",
    "n, bins, patches = plt.hist(kuuluvus[\"kuuluvusskoor\"], weights=np.ones(len(kuuluvus[\"kuuluvusskoor\"])) / len(kuuluvus[\"kuuluvusskoor\"]), bins = 7, color=['#C8CDFD'], edgecolor=\"black\")\n",
    "plt.ylabel(\"Esinemissagedus\")\n",
    "plt.xlabel(\"Kuuluvusskoor\")\n",
    "plt.title(\"Tudengite kuuluvustunde skooride jaotus 2022. aastal\")\n",
    "plt.xticks(bins)\n",
    "plt.gca().yaxis.set_major_formatter(PercentFormatter(1))\n"
   ]
  }
 ],
 "metadata": {
  "kernelspec": {
   "display_name": "Python 3",
   "language": "python",
   "name": "python3"
  },
  "language_info": {
   "codemirror_mode": {
    "name": "ipython",
    "version": 3
   },
   "file_extension": ".py",
   "mimetype": "text/x-python",
   "name": "python",
   "nbconvert_exporter": "python",
   "pygments_lexer": "ipython3",
   "version": "3.8.8"
  }
 },
 "nbformat": 4,
 "nbformat_minor": 5
}

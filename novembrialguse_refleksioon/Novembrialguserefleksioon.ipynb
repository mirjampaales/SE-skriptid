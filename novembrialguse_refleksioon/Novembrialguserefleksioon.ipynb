{
 "cells": [
  {
   "cell_type": "code",
   "execution_count": 18,
   "id": "971ff920",
   "metadata": {},
   "outputs": [
    {
     "name": "stdout",
     "output_type": "stream",
     "text": [
      "Requirement already satisfied: researchpy in c:\\users\\habanen\\anaconda3\\lib\\site-packages (0.3.5)\n",
      "Requirement already satisfied: pandas in c:\\users\\habanen\\anaconda3\\lib\\site-packages (from researchpy) (1.2.4)\n",
      "Requirement already satisfied: scipy in c:\\users\\habanen\\anaconda3\\lib\\site-packages (from researchpy) (1.6.2)\n",
      "Requirement already satisfied: numpy in c:\\users\\habanen\\anaconda3\\lib\\site-packages (from researchpy) (1.20.1)\n",
      "Requirement already satisfied: statsmodels in c:\\users\\habanen\\anaconda3\\lib\\site-packages (from researchpy) (0.12.2)\n",
      "Requirement already satisfied: patsy in c:\\users\\habanen\\anaconda3\\lib\\site-packages (from researchpy) (0.5.1)\n",
      "Requirement already satisfied: python-dateutil>=2.7.3 in c:\\users\\habanen\\anaconda3\\lib\\site-packages (from pandas->researchpy) (2.8.1)\n",
      "Requirement already satisfied: pytz>=2017.3 in c:\\users\\habanen\\anaconda3\\lib\\site-packages (from pandas->researchpy) (2021.1)\n",
      "Requirement already satisfied: six>=1.5 in c:\\users\\habanen\\anaconda3\\lib\\site-packages (from python-dateutil>=2.7.3->pandas->researchpy) (1.15.0)\n",
      "Note: you may need to restart the kernel to use updated packages.\n"
     ]
    }
   ],
   "source": [
    "pip install researchpy"
   ]
  },
  {
   "cell_type": "code",
   "execution_count": 19,
   "id": "ef9204f4",
   "metadata": {},
   "outputs": [],
   "source": [
    "import pandas as pd\n",
    "import numpy as np\n",
    "import researchpy as rp\n",
    "\n",
    "kuuluvus20 = pd.read_csv(\"kuuluvus2020.csv\", encoding='latin-1')\n",
    "\n",
    "kuuluvus20 = kuuluvus20.replace(\"Nõustun täielikult\", 5)\n",
    "kuuluvus20 = kuuluvus20.replace(\"Pigem nõustun\", 4)\n",
    "kuuluvus20 = kuuluvus20.replace(\"Ei oska öelda\", 3)\n",
    "kuuluvus20 = kuuluvus20.replace(\"Pigem ei nõustu\", 2)\n",
    "kuuluvus20 = kuuluvus20.replace(\"Ei nõustu üldse\", 1)\n",
    "\n",
    "\n",
    "kuuluvus20['kohmakasReverse'] = kuuluvus20.apply(lambda row: abs(row[\"Palun märgi, mil määral nõustud järgnevate väidetega. [Ma tunnen end koolis kohmaka ja kohatuna.]\"]-6), axis=1)\n",
    "kuuluvus20['yksikReverse'] = kuuluvus20.apply(lambda row: abs(row[\"Palun märgi, mil määral nõustud järgnevate väidetega. [Ma tunnen end ülikoolis üksikuna.]\"]-6), axis=1)\n",
    "kuuluvus20['torjutudReverse'] = kuuluvus20.apply(lambda row: abs(row[\"Palun märgi, mil määral nõustud järgnevate väidetega. [Ma tunnen end ülikoolis tõrjutuna.]\"]-6), axis=1)\n",
    "\n",
    "kuuluvus20['kuuluvusskoor'] = kuuluvus20.apply(lambda row: row[\"Palun märgi, mil määral nõustud järgnevate väidetega. [Ma leian, et teised peavad minust lugu.]\"]\n",
    "                                               + row[\"Palun märgi, mil määral nõustud järgnevate väidetega. [Ma leian kergesti sõpru.]\"] \n",
    "                                               + row[\"Palun märgi, mil määral nõustud järgnevate väidetega. [Ma tunnen, et olen osa sellest kursusest.]\"] \n",
    "                                               + row.kohmakasReverse \n",
    "                                               + row.yksikReverse \n",
    "                                               + row.torjutudReverse, axis=1)\n"
   ]
  },
  {
   "cell_type": "code",
   "execution_count": 20,
   "id": "321ab2e9",
   "metadata": {
    "scrolled": true
   },
   "outputs": [],
   "source": [
    "kuuluvus22 = pd.read_csv(\"kuuluvus2022.csv\", encoding='latin-1')\n",
    "\n",
    "kuuluvus22.dropna()\n",
    "kuuluvus22 = kuuluvus22[kuuluvus22[\"Column9\"] != \"{question_not_shown}\"]\n",
    "kuuluvus22 = kuuluvus22.drop(0)\n",
    "kuuluvus22 = kuuluvus22.drop(1)\n",
    "kuuluvus22 = kuuluvus22.drop(455)\n",
    "\n",
    "kuuluvus22 = kuuluvus22.replace(\"5\", 5)\n",
    "kuuluvus22 = kuuluvus22.replace(\"4\", 4)\n",
    "kuuluvus22 = kuuluvus22.replace(\"3\", 3)\n",
    "kuuluvus22 = kuuluvus22.replace(\"2\", 2)\n",
    "kuuluvus22 = kuuluvus22.replace(\"1\", 1)\n",
    "\n",
    "kuuluvus22['Column12reverse'] = kuuluvus22.apply(lambda row: abs(row.Column12-6), axis=1)\n",
    "kuuluvus22['Column13reverse'] = kuuluvus22.apply(lambda row: abs(row.Column13-6), axis=1)\n",
    "kuuluvus22['Column14reverse'] = kuuluvus22.apply(lambda row: abs(row.Column14-6), axis=1)\n",
    "\n",
    "kuuluvus22['kuuluvusskoor'] = kuuluvus22.apply(lambda row: row.Column9 + row.Column10 + row.Column11 + row.Column12reverse + row.Column13reverse + row.Column14reverse, axis=1)\n"
   ]
  },
  {
   "cell_type": "code",
   "execution_count": 21,
   "id": "9e287079",
   "metadata": {},
   "outputs": [
    {
     "data": {
      "text/plain": [
       "[Text(0.5, 0, 'kuuluvusskoor'), Text(0, 0.5, 'arv')]"
      ]
     },
     "execution_count": 21,
     "metadata": {},
     "output_type": "execute_result"
    },
    {
     "data": {
      "image/png": "[encoded data removed]",
      "text/plain": [
       "<Figure size 432x288 with 1 Axes>"
      ]
     },
     "metadata": {
      "needs_background": "light"
     },
     "output_type": "display_data"
    }
   ],
   "source": [
    "import seaborn as sns\n",
    "ax = sns.histplot(data=kuuluvus22[\"kuuluvusskoor\"], binwidth = 3) \n",
    "ax.set(xlabel='kuuluvusskoor', ylabel='arv')"
   ]
  },
  {
   "cell_type": "code",
   "execution_count": 22,
   "id": "0e9f1d26",
   "metadata": {},
   "outputs": [
    {
     "data": {
      "text/plain": [
       "<matplotlib.legend.Legend at 0x19921347a00>"
      ]
     },
     "execution_count": 22,
     "metadata": {},
     "output_type": "execute_result"
    },
    {
     "data": {
      "image/png": "[encoded data removed]",
      "text/plain": [
       "<Figure size 432x288 with 1 Axes>"
      ]
     },
     "metadata": {
      "needs_background": "light"
     },
     "output_type": "display_data"
    }
   ],
   "source": [
    "import matplotlib.pyplot as plt\n",
    "plt.hist([kuuluvus20[\"kuuluvusskoor\"], kuuluvus22[\"kuuluvusskoor\"]], color=['#F4C8FD','#C8CDFD'], alpha=0.5)\n",
    "plt.ylabel(\"arv\")\n",
    "plt.xlabel(\"kuuluvusskoor\")\n",
    "\n",
    "# Graafiku legendi moodustamine https://stackoverflow.com/questions/57340415/matplotlib-bar-plot-add-legend-from-categories-dataframe-column\n",
    "varvid = {'2020':'#F4C8FD', '2022':'#C8CDFD'}         \n",
    "tingimused = list(varvid.keys())\n",
    "kastid = [plt.Rectangle((0,0),1,1, color=varvid[tingimus]) for tingimus in tingimused]\n",
    "plt.legend(kastid, tingimused)"
   ]
  },
  {
   "cell_type": "code",
   "execution_count": 23,
   "id": "f96cdd4a",
   "metadata": {},
   "outputs": [
    {
     "data": {
      "text/plain": [
       "<AxesSubplot:ylabel='Frequency'>"
      ]
     },
     "execution_count": 23,
     "metadata": {},
     "output_type": "execute_result"
    },
    {
     "data": {
      "image/png": "[encoded data removed]",
      "text/plain": [
       "<Figure size 432x288 with 1 Axes>"
      ]
     },
     "metadata": {
      "needs_background": "light"
     },
     "output_type": "display_data"
    }
   ],
   "source": [
    "pd.to_numeric(kuuluvus22[\"kuuluvusskoor\"], errors='coerce').plot.hist(bins=7)"
   ]
  },
  {
   "cell_type": "code",
   "execution_count": 24,
   "id": "f2c93790",
   "metadata": {},
   "outputs": [
    {
     "name": "stdout",
     "output_type": "stream",
     "text": [
      "3.8176100628930816\n",
      "3.769230769230769\n"
     ]
    }
   ],
   "source": [
    "print(kuuluvus20[\"Palun märgi, mil määral nõustud järgnevate väidetega. [Ma leian, et teised peavad minust lugu.]\"].mean())\n",
    "print(kuuluvus22[\"Column9\"].mean())"
   ]
  },
  {
   "cell_type": "code",
   "execution_count": 25,
   "id": "b9d918ef",
   "metadata": {},
   "outputs": [
    {
     "name": "stdout",
     "output_type": "stream",
     "text": [
      "3.1446540880503147\n",
      "3.1376518218623484\n"
     ]
    }
   ],
   "source": [
    "print(kuuluvus20[\"Palun märgi, mil määral nõustud järgnevate väidetega. [Ma leian kergesti sõpru.]\"].mean())\n",
    "print(kuuluvus22[\"Column10\"].mean())"
   ]
  },
  {
   "cell_type": "code",
   "execution_count": 26,
   "id": "8bd42e92",
   "metadata": {},
   "outputs": [
    {
     "name": "stdout",
     "output_type": "stream",
     "text": [
      "3.4654088050314464\n",
      "3.3157894736842106\n"
     ]
    }
   ],
   "source": [
    "print(kuuluvus20[\"Palun märgi, mil määral nõustud järgnevate väidetega. [Ma tunnen, et olen osa sellest kursusest.]\"].mean())\n",
    "print(kuuluvus22[\"Column11\"].mean())"
   ]
  },
  {
   "cell_type": "code",
   "execution_count": 27,
   "id": "041baa27",
   "metadata": {},
   "outputs": [
    {
     "name": "stdout",
     "output_type": "stream",
     "text": [
      "2.207547169811321\n",
      "2.3724696356275303\n"
     ]
    }
   ],
   "source": [
    "print(kuuluvus20[\"Palun märgi, mil määral nõustud järgnevate väidetega. [Ma tunnen end koolis kohmaka ja kohatuna.]\"].mean())\n",
    "print(kuuluvus22[\"Column12\"].mean())"
   ]
  },
  {
   "cell_type": "code",
   "execution_count": 28,
   "id": "669dc362",
   "metadata": {},
   "outputs": [
    {
     "name": "stdout",
     "output_type": "stream",
     "text": [
      "2.40251572327044\n",
      "2.45748987854251\n"
     ]
    }
   ],
   "source": [
    "print(kuuluvus20[\"Palun märgi, mil määral nõustud järgnevate väidetega. [Ma tunnen end ülikoolis üksikuna.]\"].mean())\n",
    "print(kuuluvus22[\"Column13\"].mean())"
   ]
  },
  {
   "cell_type": "code",
   "execution_count": 29,
   "id": "7d967397",
   "metadata": {},
   "outputs": [
    {
     "name": "stdout",
     "output_type": "stream",
     "text": [
      "1.471698113207547\n",
      "1.4939271255060729\n"
     ]
    }
   ],
   "source": [
    "print(kuuluvus20[\"Palun märgi, mil määral nõustud järgnevate väidetega. [Ma tunnen end ülikoolis tõrjutuna.]\"].mean())\n",
    "print(kuuluvus22[\"Column14\"].mean())"
   ]
  },
  {
   "cell_type": "code",
   "execution_count": 30,
   "id": "88302ad3",
   "metadata": {},
   "outputs": [
    {
     "name": "stdout",
     "output_type": "stream",
     "text": [
      "2020 aasta:\n",
      "22.345911949685533\n",
      "2022 aasta:\n",
      "21.898785425101213\n"
     ]
    }
   ],
   "source": [
    "print(\"2020 aasta:\")\n",
    "print(kuuluvus20[\"kuuluvusskoor\"].mean())\n",
    "print(\"2022 aasta:\")\n",
    "print(kuuluvus22[\"kuuluvusskoor\"].mean())"
   ]
  },
  {
   "cell_type": "code",
   "execution_count": 31,
   "id": "eb9b0a1d",
   "metadata": {},
   "outputs": [
    {
     "name": "stdout",
     "output_type": "stream",
     "text": [
      "        Variable      N       Mean        SD        SE  95% Conf.   Interval\n",
      "0  2020 kuuluvus  159.0  22.345912  4.096907  0.324906  21.704193  22.987631\n",
      "1  2022 kuuluvus  247.0  21.898785  4.150849  0.264112  21.378576  22.418995\n",
      "2       combined  406.0  22.073892  4.130520  0.204994  21.670906  22.476877\n",
      "                              Independent t-test   results\n",
      "0  Difference (2020 kuuluvus - 2022 kuuluvus) =     0.4471\n",
      "1                          Degrees of freedom =   404.0000\n",
      "2                                           t =     1.0648\n",
      "3                       Two side test p value =     0.2876\n",
      "4                      Difference < 0 p value =     0.8562\n",
      "5                      Difference > 0 p value =     0.1438\n",
      "6                                   Cohen's d =     0.1083\n",
      "7                                   Hedge's g =     0.1081\n",
      "8                              Glass's delta1 =     0.1091\n",
      "9                            Point-Biserial r =     0.0529\n"
     ]
    }
   ],
   "source": [
    "summary, results = rp.ttest(group1= kuuluvus20[\"kuuluvusskoor\"], group1_name= \"2020 kuuluvus\",\n",
    "                            group2= kuuluvus22[\"kuuluvusskoor\"], group2_name= \"2022 kuuluvus\")\n",
    "print(summary)\n",
    "print(results)"
   ]
  },
  {
   "cell_type": "markdown",
   "id": "b9659353",
   "metadata": {},
   "source": [
    "# Ma leian, et teised peavad minust lugu."
   ]
  },
  {
   "cell_type": "code",
   "execution_count": 32,
   "id": "a26431b0",
   "metadata": {},
   "outputs": [
    {
     "data": {
      "text/plain": [
       "<AxesSubplot:>"
      ]
     },
     "execution_count": 32,
     "metadata": {},
     "output_type": "execute_result"
    },
    {
     "data": {
      "image/png": "[encoded data removed]",
      "text/plain": [
       "<Figure size 432x288 with 1 Axes>"
      ]
     },
     "metadata": {
      "needs_background": "light"
     },
     "output_type": "display_data"
    }
   ],
   "source": [
    "kuuluvus20[\"Palun märgi, mil määral nõustud järgnevate väidetega. [Ma leian, et teised peavad minust lugu.]\"].value_counts(sort=False, normalize=False).plot(kind='bar', color='#FDC8EA')"
   ]
  },
  {
   "cell_type": "code",
   "execution_count": 33,
   "id": "0ac30293",
   "metadata": {},
   "outputs": [
    {
     "data": {
      "text/plain": [
       "<AxesSubplot:>"
      ]
     },
     "execution_count": 33,
     "metadata": {},
     "output_type": "execute_result"
    },
    {
     "data": {
      "image/png": "[encoded data removed]",
      "text/plain": [
       "<Figure size 432x288 with 1 Axes>"
      ]
     },
     "metadata": {
      "needs_background": "light"
     },
     "output_type": "display_data"
    }
   ],
   "source": [
    "kuuluvus22[\"Column9\"].value_counts(sort=False, normalize=False).plot(kind='bar')"
   ]
  },
  {
   "cell_type": "markdown",
   "id": "075df71f",
   "metadata": {},
   "source": [
    "# Ma leian kergesti sõpru."
   ]
  },
  {
   "cell_type": "code",
   "execution_count": 34,
   "id": "4c80d58b",
   "metadata": {},
   "outputs": [
    {
     "data": {
      "text/plain": [
       "<AxesSubplot:>"
      ]
     },
     "execution_count": 34,
     "metadata": {},
     "output_type": "execute_result"
    },
    {
     "data": {
      "image/png": "[encoded data removed]",
      "text/plain": [
       "<Figure size 432x288 with 1 Axes>"
      ]
     },
     "metadata": {
      "needs_background": "light"
     },
     "output_type": "display_data"
    }
   ],
   "source": [
    "kuuluvus20[\"Palun märgi, mil määral nõustud järgnevate väidetega. [Ma leian kergesti sõpru.]\"].value_counts(sort=False, normalize=False).plot(kind='bar', color='#FDC8EA')"
   ]
  },
  {
   "cell_type": "code",
   "execution_count": 35,
   "id": "21e3096f",
   "metadata": {},
   "outputs": [
    {
     "data": {
      "text/plain": [
       "<AxesSubplot:>"
      ]
     },
     "execution_count": 35,
     "metadata": {},
     "output_type": "execute_result"
    },
    {
     "data": {
      "image/png": "[encoded data removed]",
      "text/plain": [
       "<Figure size 432x288 with 1 Axes>"
      ]
     },
     "metadata": {
      "needs_background": "light"
     },
     "output_type": "display_data"
    }
   ],
   "source": [
    "kuuluvus22[\"Column10\"].value_counts(sort=False, normalize=False).plot(kind='bar')"
   ]
  },
  {
   "cell_type": "markdown",
   "id": "9cf45d22",
   "metadata": {},
   "source": [
    "# Ma tunnen, et olen osa sellest kursusest."
   ]
  },
  {
   "cell_type": "code",
   "execution_count": 36,
   "id": "b081775a",
   "metadata": {},
   "outputs": [
    {
     "data": {
      "text/plain": [
       "<AxesSubplot:>"
      ]
     },
     "execution_count": 36,
     "metadata": {},
     "output_type": "execute_result"
    },
    {
     "data": {
      "image/png": "[encoded data removed]",
      "text/plain": [
       "<Figure size 432x288 with 1 Axes>"
      ]
     },
     "metadata": {
      "needs_background": "light"
     },
     "output_type": "display_data"
    }
   ],
   "source": [
    "kuuluvus20[ \"Palun märgi, mil määral nõustud järgnevate väidetega. [Ma tunnen, et olen osa sellest kursusest.]\"].value_counts(sort=False, normalize=False).plot(kind='bar', color='#FDC8EA')"
   ]
  },
  {
   "cell_type": "code",
   "execution_count": 37,
   "id": "d4aad444",
   "metadata": {},
   "outputs": [
    {
     "data": {
      "text/plain": [
       "<AxesSubplot:>"
      ]
     },
     "execution_count": 37,
     "metadata": {},
     "output_type": "execute_result"
    },
    {
     "data": {
      "image/png": "[encoded data removed]",
      "text/plain": [
       "<Figure size 432x288 with 1 Axes>"
      ]
     },
     "metadata": {
      "needs_background": "light"
     },
     "output_type": "display_data"
    }
   ],
   "source": [
    "kuuluvus22[\"Column11\"].value_counts(sort=False, normalize=False).plot(kind='bar')"
   ]
  },
  {
   "cell_type": "markdown",
   "id": "5f39b797",
   "metadata": {},
   "source": [
    "# Ma tunnen end koolis kohmaka ja kohatuna."
   ]
  },
  {
   "cell_type": "code",
   "execution_count": 38,
   "id": "631aa098",
   "metadata": {},
   "outputs": [
    {
     "data": {
      "text/plain": [
       "<AxesSubplot:>"
      ]
     },
     "execution_count": 38,
     "metadata": {},
     "output_type": "execute_result"
    },
    {
     "data": {
      "image/png": "[encoded data removed]",
      "text/plain": [
       "<Figure size 432x288 with 1 Axes>"
      ]
     },
     "metadata": {
      "needs_background": "light"
     },
     "output_type": "display_data"
    }
   ],
   "source": [
    "kuuluvus20[\"Palun märgi, mil määral nõustud järgnevate väidetega. [Ma tunnen end koolis kohmaka ja kohatuna.]\"].value_counts(sort=False, normalize=False).plot(kind='bar', color='#FDC8EA')"
   ]
  },
  {
   "cell_type": "code",
   "execution_count": 39,
   "id": "c624d8f3",
   "metadata": {},
   "outputs": [
    {
     "data": {
      "text/plain": [
       "<AxesSubplot:>"
      ]
     },
     "execution_count": 39,
     "metadata": {},
     "output_type": "execute_result"
    },
    {
     "data": {
      "image/png": "[encoded data removed]",
      "text/plain": [
       "<Figure size 432x288 with 1 Axes>"
      ]
     },
     "metadata": {
      "needs_background": "light"
     },
     "output_type": "display_data"
    }
   ],
   "source": [
    "kuuluvus22[\"Column12\"].value_counts(sort=False, normalize=False).plot(kind='bar')"
   ]
  },
  {
   "cell_type": "markdown",
   "id": "e8e38209",
   "metadata": {},
   "source": [
    "# Ma tunnen end ülikoolis üksikuna."
   ]
  },
  {
   "cell_type": "code",
   "execution_count": 40,
   "id": "9e8a3a09",
   "metadata": {},
   "outputs": [
    {
     "data": {
      "text/plain": [
       "<AxesSubplot:>"
      ]
     },
     "execution_count": 40,
     "metadata": {},
     "output_type": "execute_result"
    },
    {
     "data": {
      "image/png": "[encoded data removed]",
      "text/plain": [
       "<Figure size 432x288 with 1 Axes>"
      ]
     },
     "metadata": {
      "needs_background": "light"
     },
     "output_type": "display_data"
    }
   ],
   "source": [
    "kuuluvus20[\"Palun märgi, mil määral nõustud järgnevate väidetega. [Ma tunnen end ülikoolis üksikuna.]\"].value_counts(sort=False, normalize=False).plot(kind='bar', color='#FDC8EA')"
   ]
  },
  {
   "cell_type": "code",
   "execution_count": 41,
   "id": "e7b9ebf8",
   "metadata": {},
   "outputs": [
    {
     "data": {
      "text/plain": [
       "<AxesSubplot:>"
      ]
     },
     "execution_count": 41,
     "metadata": {},
     "output_type": "execute_result"
    },
    {
     "data": {
      "image/png": "[encoded data removed]",
      "text/plain": [
       "<Figure size 432x288 with 1 Axes>"
      ]
     },
     "metadata": {
      "needs_background": "light"
     },
     "output_type": "display_data"
    }
   ],
   "source": [
    "kuuluvus22[\"Column13\"].value_counts(sort=False, normalize=False).plot(kind='bar')"
   ]
  },
  {
   "cell_type": "markdown",
   "id": "09faa813",
   "metadata": {},
   "source": [
    "# Ma tunnen end ülikoolis tõrjutuna."
   ]
  },
  {
   "cell_type": "code",
   "execution_count": 42,
   "id": "40b5ab62",
   "metadata": {},
   "outputs": [
    {
     "data": {
      "text/plain": [
       "<AxesSubplot:>"
      ]
     },
     "execution_count": 42,
     "metadata": {},
     "output_type": "execute_result"
    },
    {
     "data": {
      "image/png": "[encoded data removed]",
      "text/plain": [
       "<Figure size 432x288 with 1 Axes>"
      ]
     },
     "metadata": {
      "needs_background": "light"
     },
     "output_type": "display_data"
    }
   ],
   "source": [
    "kuuluvus20[\"Palun märgi, mil määral nõustud järgnevate väidetega. [Ma tunnen end ülikoolis tõrjutuna.]\"].value_counts(sort=False, normalize=False).plot(kind='bar', color='#FDC8EA')"
   ]
  },
  {
   "cell_type": "code",
   "execution_count": 43,
   "id": "ff4e52ac",
   "metadata": {},
   "outputs": [
    {
     "data": {
      "text/plain": [
       "<AxesSubplot:>"
      ]
     },
     "execution_count": 43,
     "metadata": {},
     "output_type": "execute_result"
    },
    {
     "data": {
      "image/png": "[encoded data removed]",
      "text/plain": [
       "<Figure size 432x288 with 1 Axes>"
      ]
     },
     "metadata": {
      "needs_background": "light"
     },
     "output_type": "display_data"
    }
   ],
   "source": [
    "kuuluvus22[\"Column14\"].value_counts(sort=False, normalize=False).plot(kind='bar')"
   ]
  }
 ],
 "metadata": {
  "kernelspec": {
   "display_name": "Python 3",
   "language": "python",
   "name": "python3"
  },
  "language_info": {
   "codemirror_mode": {
    "name": "ipython",
    "version": 3
   },
   "file_extension": ".py",
   "mimetype": "text/x-python",
   "name": "python",
   "nbconvert_exporter": "python",
   "pygments_lexer": "ipython3",
   "version": "3.8.8"
  }
 },
 "nbformat": 4,
 "nbformat_minor": 5
}

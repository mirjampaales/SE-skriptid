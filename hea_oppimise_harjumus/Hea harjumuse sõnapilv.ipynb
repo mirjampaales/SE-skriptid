{
 "cells": [
  {
   "cell_type": "markdown",
   "id": "501b4d05",
   "metadata": {},
   "source": [
    "See skript on mõeldud Hea harjumuse ülesandesse kirjutatud tekstidest sõnade kokku lugemiseks. \n",
    "Sõnapilvede genereerimiseks kasuta seda lehekülge: https://www.wordclouds.com/"
   ]
  },
  {
   "cell_type": "code",
   "execution_count": 1,
   "id": "b15f17ce",
   "metadata": {},
   "outputs": [],
   "source": [
    "import pandas as pd\n",
    "import numpy as np\n",
    "\n",
    "sonad = dict()\n",
    "\n",
    "def kirjavahemarkide_eemaldamine (sone):\n",
    "    sone = sone.replace(\",\", \"\")\n",
    "    sone = sone.replace(\".\", \"\")\n",
    "    sone = sone.replace(\"!\", \"\")\n",
    "    sone = sone.replace(\"?\", \"\")\n",
    "    return (sone)\n",
    "\n",
    "harjumus = pd.read_csv(\"hea-õppimise-harjumus.csv\")\n",
    "harjumus = harjumus.fillna('')\n"
   ]
  },
  {
   "cell_type": "code",
   "execution_count": 2,
   "id": "448c1f60",
   "metadata": {},
   "outputs": [],
   "source": [
    "for i in range(len(harjumus)):\n",
    "        \n",
    "        tekst1 = harjumus[\"Kasutasin täna õppimiseks neid tõhusaid meetodeid:\"][i]\n",
    "        if (tekst1 != ''): \n",
    "            vastus_sonadeks1 = tekst1.split(\" \")\n",
    "\n",
    "            for sone in vastus_sonadeks1: \n",
    "                sone = kirjavahemarkide_eemaldamine(sone)\n",
    "                sonad[sone] = sonad.get(sone, 0) + 1\n",
    "            \n",
    "        tekst2 = harjumus[\"Võrreldes tänasega, mida sa teed teisiti järgmine kord, kui õpid?\"][i]\n",
    "        if (tekst2 != ''): \n",
    "            vastus_sonadeks2 = tekst2.split(\" \")\n",
    "\n",
    "            for sone in vastus_sonadeks2: \n",
    "                sone = kirjavahemarkide_eemaldamine(sone)\n",
    "                sonad[sone] = sonad.get(sone, 0) + 1\n",
    "                \n",
    "                \n",
    "list = {y: x for x, y in sonad.items()}.items()"
   ]
  },
  {
   "cell_type": "code",
   "execution_count": 3,
   "id": "a8dd9be8",
   "metadata": {},
   "outputs": [],
   "source": [
    "# Ekspordime andmed \n",
    "andmed_faili = pd.DataFrame(list, columns = [\"kordused\", \"sone\"])\n",
    "eksport_faili_nimi = 'sonapilv_harjumuse_sonad.csv'\n",
    "andmed_faili.to_csv(eksport_faili_nimi, sep=',', encoding='utf-8',index=False, header=False, columns = [\"kordused\", \"sone\"]) "
   ]
  }
 ],
 "metadata": {
  "kernelspec": {
   "display_name": "Python 3",
   "language": "python",
   "name": "python3"
  },
  "language_info": {
   "codemirror_mode": {
    "name": "ipython",
    "version": 3
   },
   "file_extension": ".py",
   "mimetype": "text/x-python",
   "name": "python",
   "nbconvert_exporter": "python",
   "pygments_lexer": "ipython3",
   "version": "3.8.8"
  }
 },
 "nbformat": 4,
 "nbformat_minor": 5
}

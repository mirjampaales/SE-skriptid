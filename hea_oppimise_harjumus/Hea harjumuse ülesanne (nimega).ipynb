{
 "cells": [
  {
   "cell_type": "code",
   "execution_count": 1,
   "metadata": {
    "colab": {
     "base_uri": "https://localhost:8080/"
    },
    "executionInfo": {
     "elapsed": 2106,
     "status": "ok",
     "timestamp": 1675803950159,
     "user": {
      "displayName": "Anette Habanen",
      "userId": "04324864666478201317"
     },
     "user_tz": -120
    },
    "id": "7qHcuz6iqcHJ",
    "outputId": "898e74aa-8f96-4981-a55f-fac45bb8c779"
   },
   "outputs": [],
   "source": [
    "import pandas as pd\n",
    "import numpy as np\n",
    "import datetime\n",
    "\n",
    "# \"Hea õppimise harjumuse\" ülesande vastused\n",
    "vastused = pd.read_csv(\"hea-õppimise-harjumus.csv\", encoding='utf-8')\n",
    "vastused = vastused[[\"Ajatempel\", \"Ees- ja perekonnanimi\", \"Kas sa oled täna õppinud (sh koduseid ülesandeid teinud)?\"]]\n",
    "vastused[\"Ajatempel\"] = pd.to_datetime(vastused[\"Ajatempel\"])\n",
    "vastused['Ees- ja perekonnanimi'] = vastused['Ees- ja perekonnanimi'].str.strip()\n",
    "vastused['Ees- ja perekonnanimi'] = vastused['Ees- ja perekonnanimi'].str.title()\n",
    "\n",
    "# Link tudengite andmete juurde (Moodlest andmed)\n",
    "tudengid = pd.read_csv(\"tudengid_moodlest.csv\", encoding='utf-8')\n",
    "tudengid = tudengid[[\"Eesnimi\", \"Perenimi\", \"Meiliaadress\"]]\n",
    "tudengid[\"Ees- ja perekonnanimi\"] = tudengid.apply(lambda row: row[\"Eesnimi\"] + \" \" + row[\"Perenimi\"], axis=1)\n",
    "tudengid['Ees- ja perekonnanimi'] = tudengid['Ees- ja perekonnanimi'].str.strip()"
   ]
  },
  {
   "cell_type": "code",
   "execution_count": 2,
   "metadata": {
    "executionInfo": {
     "elapsed": 6885,
     "status": "ok",
     "timestamp": 1675803959790,
     "user": {
      "displayName": "Anette Habanen",
      "userId": "04324864666478201317"
     },
     "user_tz": -120
    },
    "id": "9QYpTDM7rQTF"
   },
   "outputs": [],
   "source": [
    "uhendatud = pd.merge(vastused, tudengid, on=\"Ees- ja perekonnanimi\", how=\"left\")\n",
    "\n",
    "korrasRead = uhendatud[uhendatud['Meiliaadress'].notnull()]\n",
    "korrasRead = korrasRead.sort_values(by=['Meiliaadress', 'Ajatempel'], ignore_index = True)\n",
    "\n",
    "# Kogume kokku tudengite tulemused\n",
    "tulemused = []\n",
    "\n",
    "i = 0\n",
    "# Käime läbi kõik tudengid\n",
    "while i < len(korrasRead):\n",
    "  \n",
    "    # Tudengi isikukoodi leidmine\n",
    "    meiliaadress = korrasRead['Meiliaadress'][i]\n",
    "    tudeng = korrasRead[korrasRead[\"Meiliaadress\"] == meiliaadress]\n",
    "    nimi = tudeng[\"Ees- ja perekonnanimi\"][i]\n",
    "\n",
    "    # Ülesande alguskuupäev ning ühe päeva kestmine (ehk lisame alguskuupäevale 1 päeva juurde)\n",
    "    algus = datetime.datetime(2022, 10, 25, 4, 0, 0).strftime('%Y/%m/%d %I:%M:%S')\n",
    "    lopp = (pd.to_datetime(algus) + pd.DateOffset(days=1)).strftime('%Y/%m/%d %I:%M:%S')\n",
    "\n",
    "    # Sissekannete arv\n",
    "    plaanideArv = 0\n",
    "    reflektsioonideArv = 0\n",
    "\n",
    "    # Kokku oli 13 päeva, kontrollime kõikide päevade kohta sisestuste arvu\n",
    "    j = 0\n",
    "    for j in range(13):\n",
    "\n",
    "        plaan = tudeng[\n",
    "            (tudeng[\"Kas sa oled täna õppinud (sh koduseid ülesandeid teinud)?\"] == \"Ei (liigun edasi tegema plaani)\") &\n",
    "            (tudeng[\"Ajatempel\"] > algus) &\n",
    "            (tudeng[\"Ajatempel\"] < lopp)]\n",
    "        reflektsioon = tudeng[\n",
    "            (tudeng[\"Kas sa oled täna õppinud (sh koduseid ülesandeid teinud)?\"] == \"Jah (liigun edasi tegema refleksiooni)\") &\n",
    "            (tudeng[\"Ajatempel\"] > algus) &\n",
    "            (tudeng[\"Ajatempel\"] < lopp)]\n",
    "\n",
    "        if plaan.shape[0] != 0:\n",
    "            plaanideArv += 1\n",
    "        if reflektsioon.shape[0] != 0:\n",
    "            reflektsioonideArv += 1\n",
    "\n",
    "        algus = lopp\n",
    "        lopp = (pd.to_datetime(algus) + pd.DateOffset(days=1)).strftime('%Y/%m/%d %I:%M:%S')\n",
    "        j += 1\n",
    "\n",
    "\n",
    "    sissekanneteArv = plaanideArv + reflektsioonideArv\n",
    "    tulemus = []\n",
    "    tulemus.append(meiliaadress)\n",
    "    tulemus.append(nimi)\n",
    "    tulemus.append(plaanideArv)\n",
    "    tulemus.append(reflektsioonideArv)\n",
    "    tulemus.append(sissekanneteArv)\n",
    "    if sissekanneteArv >= 20 :\n",
    "        tulemus.append(8)\n",
    "    elif sissekanneteArv >= 15 :\n",
    "        tulemus.append(6)\n",
    "    elif sissekanneteArv >= 10 :\n",
    "        tulemus.append(4)\n",
    "    elif sissekanneteArv >= 7 :\n",
    "        tulemus.append(2)\n",
    "    else:\n",
    "        tulemus.append(0)\n",
    "\n",
    "    tulemused.append(tulemus)\n",
    "  \n",
    "    i += len(tudeng)\n",
    "  "
   ]
  },
  {
   "cell_type": "code",
   "execution_count": 3,
   "metadata": {
    "colab": {
     "base_uri": "https://localhost:8080/",
     "height": 1000
    },
    "executionInfo": {
     "elapsed": 275,
     "status": "ok",
     "timestamp": 1675803965545,
     "user": {
      "displayName": "Anette Habanen",
      "userId": "04324864666478201317"
     },
     "user_tz": -120
    },
    "id": "5HnaIeZxrZ4I",
    "outputId": "4178b917-60be-4248-ed45-c2293a983a3c"
   },
   "outputs": [],
   "source": [
    "# vigasedRead - seda saab kasutada, et näha, millised tudengid kas kirjutasid oma nime valesti või on mõni muu viga sees\n",
    "# Nende ridade punktid tuleks tulemusesse ise juurde lisada.\n",
    "vigasedRead = uhendatud[pd.isnull(uhendatud['Meiliaadress'])]\n",
    "vigasedRead = vigasedRead.sort_values(by=['Ees- ja perekonnanimi', 'Ajatempel'], ignore_index = True)"
   ]
  },
  {
   "cell_type": "code",
   "execution_count": 4,
   "metadata": {
    "colab": {
     "base_uri": "https://localhost:8080/",
     "height": 506
    },
    "executionInfo": {
     "elapsed": 273,
     "status": "ok",
     "timestamp": 1675803990474,
     "user": {
      "displayName": "Anette Habanen",
      "userId": "04324864666478201317"
     },
     "user_tz": -120
    },
    "id": "C-qnaTPIrrPg",
    "outputId": "56e3898e-540b-4909-c86b-e31c9a4f53ca"
   },
   "outputs": [],
   "source": [
    "# Andmete eksportimine faili\n",
    "andmed_faili = pd.DataFrame(tulemused, columns = [\"meiliaadress\", \"nimi\", \"plaanide arv\", \"reflektsioonide arv\", \"kokku\", \"punktid\"])\n",
    "eksport_faili_nimi = 'hea_oppimise_harjumuse_punktid.csv'\n",
    "andmed_faili.to_csv(eksport_faili_nimi, sep=',', encoding='utf-8', index = False, columns = [\"meiliaadress\", \"nimi\", \"plaanide arv\", \"reflektsioonide arv\", \"kokku\", \"punktid\"]) "
   ]
  }
 ],
 "metadata": {
  "colab": {
   "authorship_tag": "ABX9TyNP9pAnXcUJY3q/RbRk7Who",
   "provenance": []
  },
  "kernelspec": {
   "display_name": "Python 3",
   "language": "python",
   "name": "python3"
  },
  "language_info": {
   "codemirror_mode": {
    "name": "ipython",
    "version": 3
   },
   "file_extension": ".py",
   "mimetype": "text/x-python",
   "name": "python",
   "nbconvert_exporter": "python",
   "pygments_lexer": "ipython3",
   "version": "3.8.8"
  }
 },
 "nbformat": 4,
 "nbformat_minor": 1
}

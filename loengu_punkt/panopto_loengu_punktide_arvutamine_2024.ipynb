{
 "cells": [
  {
   "cell_type": "markdown",
   "metadata": {
    "id": "TS4g5UmgjjFv"
   },
   "source": [
    "# Panopto loengu punktid"
   ]
  },
  {
   "cell_type": "markdown",
   "metadata": {
    "id": "bBEb78wrjjF5"
   },
   "source": [
    "See fail on mõeldud Panopto loengu punktide panemise lihtsustamiseks Moodles.\n",
    "\n",
    "**NB! Enne uut semestrit paika panna kindel küsimustike tegemise viis selleks, et need oleksid ühtlasemad ning analüüsi koodi saaks lühemaks teha ja olukorraspetsiifilisust vähendada!!**"
   ]
  },
  {
   "cell_type": "markdown",
   "metadata": {
    "id": "SJBxoqpmutYN"
   },
   "source": [
    "Vajaliku liigutused faili genereerimiseks:\n",
    "* Panopto fail\n",
    "  * Lae alla Panopto vastuste fail (Panopto -> Quiz Results -> Esimene 'Download' link)\n",
    "  * Lisa fail samasse kausta skriptiga\n",
    "  * Lisa faili nimi õigesse kohta skriptis\n",
    "* Kui on soovi, muuta eksporditava faili nimi (koodis alt teine rida)\n",
    "* Käivita kood\n",
    "* Lae fail ülesse Moodlesse"
   ]
  },
  {
   "cell_type": "code",
   "execution_count": null,
   "metadata": {
    "colab": {
     "base_uri": "https://localhost:8080/",
     "height": 488
    },
    "executionInfo": {
     "elapsed": 2893,
     "status": "ok",
     "timestamp": 1672910486936,
     "user": {
      "displayName": "Anette Habanen",
      "userId": "04324864666478201317"
     },
     "user_tz": -120
    },
    "id": "n456EBLK9YBv",
    "outputId": "8e5dde8f-5b6d-49a7-899b-dbe7cf3c96e0"
   },
   "outputs": [],
   "source": [
    "from pandas.core.internals.blocks import na_value_for_dtype\n",
    "import pandas as pd\n",
    "import numpy as np\n",
    "\n",
    "# Panopto kaudu vaadanud tudengid\n",
    "# Tõmba arvutisse alla esimene Panopto fail - kui tudengi email on vastanute nimekirjas siis korras ja osaluspunkt läheb kirja\n",
    "panopto = pd.read_csv(\"panopto_vastused.csv\") # NB: vaata, et fail oleks samas kaustas skriptiga\n",
    "panopto = panopto[[\"User Display Name\", \"User Email\"]]\n",
    "panopto = np.array(panopto)\n",
    "\n",
    "\n",
    "# Siin toimub äriloogika ehk pannaks kokku dataframe, kus on olemas tudengi email ja märge osalusest\n",
    "osalused = []\n",
    "\n",
    "for tudeng in panopto:\n",
    "  email = tudeng[1]\n",
    "  nimi = tudeng[0]\n",
    "  \n",
    "  rida = [None] * 2\n",
    "  rida[0] = email\n",
    "  rida[1] = 'K'\n",
    "  osalused.append(rida)\n",
    "\n",
    "# Andmete eksportimine faili\n",
    "\n",
    "andmed_faili = pd.DataFrame(osalused, columns = [\"email\", \"statusset\"])\n",
    "eksport_faili_nimi = 'loengu_punktid_2_tühikuta.csv'\n",
    "andmed_faili.to_csv(eksport_faili_nimi, sep=',', encoding='utf-8', columns = [\"email\", \"statusset\"])"
   ]
  }
 ],
 "metadata": {
  "colab": {
   "provenance": []
  },
  "kernelspec": {
   "display_name": "Python 3 (ipykernel)",
   "language": "python",
   "name": "python3"
  },
  "language_info": {
   "codemirror_mode": {
    "name": "ipython",
    "version": 3
   },
   "file_extension": ".py",
   "mimetype": "text/x-python",
   "name": "python",
   "nbconvert_exporter": "python",
   "pygments_lexer": "ipython3",
   "version": "3.12.7"
  }
 },
 "nbformat": 4,
 "nbformat_minor": 4
}

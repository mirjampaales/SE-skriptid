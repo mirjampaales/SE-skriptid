{
 "cells": [
  {
   "cell_type": "markdown",
   "metadata": {
    "id": "TS4g5UmgjjFv"
   },
   "source": [
    "# Loengu punktid"
   ]
  },
  {
   "cell_type": "markdown",
   "metadata": {
    "id": "bBEb78wrjjF5"
   },
   "source": [
    "See fail on mõeldud loengu punktide panemise lihtsustamiseks Moodles."
   ]
  },
  {
   "cell_type": "markdown",
   "metadata": {
    "id": "BonYrg1WMcKl"
   },
   "source": [
    "Kõigepealt impordime failid: hinnetetabeli Moodle'st (nime ja meiliaadressi jaoks), Panopto vastused ja tagasiside vormi vastused ning nende põhjal leiame, kas tudeng osales loengus.\n"
   ]
  },
  {
   "cell_type": "markdown",
   "metadata": {
    "id": "klR7RX6G3YBS"
   },
   "source": [
    "Mida meeles pidada:\n",
    "*   Koodi lõpus saab muuta eksporditava faili nime (selleks, et hiljem teeks vahet, millise loengu punktidega on tegu).\n",
    "\n",
    "\n"
   ]
  },
  {
   "cell_type": "markdown",
   "metadata": {},
   "source": [
    "Väljundfailis on kirjas tudengi meiliaadress ja 'K' või 'P' (vastavalt sellele, kas ta oli kohal või puudus)."
   ]
  },
  {
   "cell_type": "code",
   "execution_count": 1,
   "metadata": {
    "colab": {
     "base_uri": "https://localhost:8080/",
     "height": 488
    },
    "id": "n456EBLK9YBv",
    "outputId": "8e5dde8f-5b6d-49a7-899b-dbe7cf3c96e0"
   },
   "outputs": [],
   "source": [
    "\n",
    "import pandas as pd\n",
    "import numpy as np\n",
    "\n",
    "# Hinnetetabel Moodlest\n",
    "tudengid = pd.read_csv(\"tudengid_moodlest.csv\")\n",
    "tudengid = tudengid[[\"Eesnimi\", \"Perenimi\", \"Meiliaadress\"]]\n",
    "tudengid = np.array(tudengid)\n",
    "\n",
    "# Panopto kaudu vaadanud tudengid\n",
    "panopto = pd.read_csv(\"panopto_vastused.csv\")\n",
    "panopto = panopto[[\"User Display Name\"]]\n",
    "panopto = np.array(panopto)\n",
    "\n",
    "# Loengule tagasiside kirjutanud tudengid\n",
    "tagasiside = pd.read_csv(\"tagasiside_vastused.csv\")\n",
    "tagasiside = tagasiside[[\"Ees- ja perekonnanimi\"]]\n",
    "tagasiside = np.array(tagasiside)\n",
    "tagasiside = np.unique(tagasiside)\n",
    "\n",
    "\n",
    "\n",
    "# Siin toimub äriloogika ehk pannakse kokku dataframe, kus on olemas tudengi meiliaadress ja kas ta osales või mitte.\n",
    "\n",
    "osalused = []\n",
    "\n",
    "for tudeng in tudengid:\n",
    "    osales = 0\n",
    "    # Kontrollime, kas tudeng osales loengus Panopto kaudu.\n",
    "    for osalus in panopto:\n",
    "        nimi = tudeng[0] + \" \" + tudeng[1]\n",
    "        if (osalus != osalus):\n",
    "            continue\n",
    "        if nimi == osalus:\n",
    "            osales = 1\n",
    "            break;\n",
    "    # Kontrollime, kas tudeng andis loengule tagasisidet.\n",
    "    for osalus in tagasiside:\n",
    "        nimi = tudeng[0] + \" \" + tudeng[1]\n",
    "        if nimi == osalus.strip():\n",
    "            osales = 1\n",
    "            break;\n",
    "\n",
    "    rida = [None] * 2\n",
    "    rida[0] = tudeng[2]\n",
    "    if osales == 1:\n",
    "        rida[1] = 'K'\n",
    "    else:\n",
    "        rida[1] = 'P'\n",
    "    osalused.append(rida)\n",
    "\n",
    "\n",
    "# Faili koostamine\n",
    "andmed_faili = pd.DataFrame(osalused, columns = [\"meiliaadress\", \"kohalolu\"])\n",
    "eksport_faili_nimi = 'loengu_1_punktid.csv'\n",
    "andmed_faili.to_csv(eksport_faili_nimi, sep=',', encoding='utf-8', columns = [\"meiliaadress\", \"kohalolu\"])"
   ]
  }
 ],
 "metadata": {
  "colab": {
   "provenance": []
  },
  "kernelspec": {
   "display_name": "Python 3",
   "language": "python",
   "name": "python3"
  },
  "language_info": {
   "codemirror_mode": {
    "name": "ipython",
    "version": 3
   },
   "file_extension": ".py",
   "mimetype": "text/x-python",
   "name": "python",
   "nbconvert_exporter": "python",
   "pygments_lexer": "ipython3",
   "version": "3.8.8"
  }
 },
 "nbformat": 4,
 "nbformat_minor": 1
}

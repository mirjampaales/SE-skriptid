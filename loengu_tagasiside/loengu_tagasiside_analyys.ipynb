{
 "cells": [
  {
   "cell_type": "markdown",
   "metadata": {
    "id": "TS4g5UmgjjFv"
   },
   "source": [
    "# Loengu tagasiside analüüs"
   ]
  },
  {
   "cell_type": "markdown",
   "metadata": {
    "id": "bBEb78wrjjF5"
   },
   "source": [
    "See fail on mõeldud loengu tagasiside analüüsimiseks, täpsemalt parima esineja leidmiseks"
   ]
  },
  {
   "cell_type": "code",
   "execution_count": 2,
   "metadata": {
    "colab": {
     "base_uri": "https://localhost:8080/",
     "height": 589
    },
    "id": "n456EBLK9YBv",
    "outputId": "1735d5f1-810d-4d08-ca15-0edc96576a32"
   },
   "outputs": [],
   "source": [
    "import pandas as pd\n",
    "import numpy as np\n"
   ]
  },
  {
   "cell_type": "code",
   "execution_count": 21,
   "metadata": {
    "colab": {
     "base_uri": "https://localhost:8080/"
    },
    "id": "BUM_MKCbWMEd",
    "outputId": "907f2e45-f749-4013-9681-e850a622ce35"
   },
   "outputs": [
    {
     "name": "stdout",
     "output_type": "stream",
     "text": [
      "[['Esineja 1', 4.25], ['Esineja 2', 4.75], ['Esineja 3', 3.0]]\n"
     ]
    }
   ],
   "source": [
    "esinejad = [[\"Esineja 1\"],\n",
    "            [\"Esineja 2\", \"Esineja 3\"]]\n",
    "\n",
    "# Siia kogume kokku kõik esinejad ning nende keskmise hinde esinemisele\n",
    "esinejate_keskmised = []\n",
    "\n",
    "loengu_nr = 1\n",
    "for loeng in esinejad:\n",
    "    if len(loeng) == 1:\n",
    "        esineja = loeng[0]\n",
    "        tagasiside = pd.read_csv(\"loeng_\" + str(loengu_nr) + \"_tagasiside.csv\")\n",
    "        hinded = tagasiside[[\"Kuidas hindad esineja üldist esinemisoskust?\"]]\n",
    "        keskmine = hinded[\"Kuidas hindad esineja üldist esinemisoskust?\"].mean()\n",
    "        tulemus = [esineja, keskmine]\n",
    "        esinejate_keskmised.append(tulemus)\n",
    "        loengu_nr += 1\n",
    "\n",
    "    if len(loeng) == 2:\n",
    "        for osad in loeng:\n",
    "            esineja = osad\n",
    "            tagasiside = pd.read_csv(\"loeng_\" + str(loengu_nr) + \"_tagasiside.csv\")\n",
    "            tagasiside = tagasiside[(tagasiside[\"Kummale loengu osale see tagasiside on?\"] == esineja)]\n",
    "            hinded = tagasiside[[\"Kuidas hindad esineja üldist esinemisoskust?\"]]\n",
    "            keskmine = hinded[\"Kuidas hindad esineja üldist esinemisoskust?\"].mean()\n",
    "            tulemus = [esineja, keskmine]\n",
    "            esinejate_keskmised.append(tulemus)\n",
    "        loengu_nr += 1\n",
    "\n",
    "print(esinejate_keskmised)\n"
   ]
  },
  {
   "cell_type": "code",
   "execution_count": 22,
   "metadata": {
    "colab": {
     "base_uri": "https://localhost:8080/"
    },
    "id": "XvJIOL98-bK5",
    "outputId": "706d90ab-33a2-448e-af42-12dc4312422e"
   },
   "outputs": [
    {
     "name": "stdout",
     "output_type": "stream",
     "text": [
      "     Esineja  Hinne\n",
      "2  Esineja 3   3.00\n",
      "0  Esineja 1   4.25\n",
      "1  Esineja 2   4.75\n"
     ]
    }
   ],
   "source": [
    "data = pd.DataFrame(esinejate_keskmised, columns = [\"Esineja\", \"Hinne\"])\n",
    "data = data.sort_values(by='Hinne')\n",
    "\n",
    "print(data)"
   ]
  },
  {
   "cell_type": "code",
   "execution_count": 23,
   "metadata": {
    "colab": {
     "base_uri": "https://localhost:8080/",
     "height": 530
    },
    "id": "3mvjzUo0Cmjz",
    "outputId": "8ba3ed93-0b9d-4e92-8b8e-92f43e2aa6d2"
   },
   "outputs": [
    {
     "data": {
      "text/plain": [
       "Text(0.5, 0, 'Keskmine hinne')"
      ]
     },
     "execution_count": 23,
     "metadata": {},
     "output_type": "execute_result"
    },
    {
     "data": {
      "image/png": "[encoded data removed]",
      "text/plain": [
       "<Figure size 576x576 with 1 Axes>"
      ]
     },
     "metadata": {
      "needs_background": "light"
     },
     "output_type": "display_data"
    }
   ],
   "source": [
    "from matplotlib import pyplot as plt\n",
    "\n",
    "data['colors'] = '#FDC8EA'\n",
    "data.loc[data.Hinne>=4,'colors'] = '#F4C8FD'\n",
    "data.loc[data.Hinne>=4.5,'colors'] = '#C8CDFD'\n",
    "\n",
    "f = plt.figure()\n",
    "f.set_figwidth(8)\n",
    "f.set_figheight(8)\n",
    "\n",
    "plt.barh(data.Esineja, data.Hinne, color=data.colors)\n",
    "\n",
    "plt.title(\"Tudengite tagasiside põhjal parimad esineja\")\n",
    "plt.ylabel(\"Esinejad\")\n",
    "plt.xlabel(\"Keskmine hinne\")"
   ]
  },
  {
   "cell_type": "code",
   "execution_count": null,
   "metadata": {},
   "outputs": [],
   "source": []
  }
 ],
 "metadata": {
  "colab": {
   "provenance": []
  },
  "kernelspec": {
   "display_name": "Python 3",
   "language": "python",
   "name": "python3"
  },
  "language_info": {
   "codemirror_mode": {
    "name": "ipython",
    "version": 3
   },
   "file_extension": ".py",
   "mimetype": "text/x-python",
   "name": "python",
   "nbconvert_exporter": "python",
   "pygments_lexer": "ipython3",
   "version": "3.8.8"
  }
 },
 "nbformat": 4,
 "nbformat_minor": 1
}

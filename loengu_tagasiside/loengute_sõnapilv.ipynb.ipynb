{
 "cells": [
  {
   "cell_type": "markdown",
   "metadata": {
    "id": "TS4g5UmgjjFv"
   },
   "source": [
    "# Loengu tagasiside analüüs"
   ]
  },
  {
   "cell_type": "markdown",
   "metadata": {
    "id": "bBEb78wrjjF5"
   },
   "source": [
    "See fail on mõeldud loengu tagasiside analüüsimiseks, täpsemalt tagasisidesse kirjutatud sõnade kokku lugemiseks. Sõnad loetakse kokku kahtes osas: need sõnad, mille puhul esinejale anti hindeks 5 ja need sõnad, mille puhul anti esinejale hindeks 1-3."
   ]
  },
  {
   "cell_type": "markdown",
   "metadata": {
    "id": "3PdqV4KhbKrz"
   },
   "source": [
    "Sõnapilvede genereerimiseks kasuta seda lehekülge: https://www.wordclouds.com/"
   ]
  },
  {
   "cell_type": "code",
   "execution_count": 16,
   "metadata": {
    "colab": {
     "base_uri": "https://localhost:8080/"
    },
    "executionInfo": {
     "elapsed": 10617,
     "status": "ok",
     "timestamp": 1671092953605,
     "user": {
      "displayName": "Anette Habanen",
      "userId": "04324864666478201317"
     },
     "user_tz": -120
    },
    "id": "n456EBLK9YBv",
    "outputId": "8d90361a-7f63-4ca3-fb03-eedadaa1c462"
   },
   "outputs": [],
   "source": [
    "import pandas as pd\n",
    "import numpy as np"
   ]
  },
  {
   "cell_type": "code",
   "execution_count": 17,
   "metadata": {
    "colab": {
     "base_uri": "https://localhost:8080/"
    },
    "executionInfo": {
     "elapsed": 268,
     "status": "ok",
     "timestamp": 1671092961132,
     "user": {
      "displayName": "Anette Habanen",
      "userId": "04324864666478201317"
     },
     "user_tz": -120
    },
    "id": "BUM_MKCbWMEd",
    "outputId": "a697de53-6f01-42d1-98ae-d12d1f1c9acc"
   },
   "outputs": [],
   "source": [
    "loengu_nr = 1\n",
    "max_loengu_nr = 7\n",
    "\n",
    "hinne5 = dict()\n",
    "hinne1_3 = dict()\n",
    "\n",
    "while max_loengu_nr >= loengu_nr:\n",
    "    tagasiside = pd.read_csv(\"loeng_\" + str(loengu_nr) + \"_tagasiside.csv\")\n",
    "    for i in range(len(tagasiside)):\n",
    "        tekst = tagasiside[\"Too välja üks mõte või teadmine, mille Sina sellest loengust kaasa võtad.\"][i]\n",
    "        hinnang = tagasiside[\"Kuidas hindad esineja üldist esinemisoskust?\"][i]\n",
    "        jagatud = tekst.split(\" \")\n",
    "\n",
    "        if hinnang == 5:\n",
    "            for sone in jagatud:\n",
    "                sone = sone.replace(\",\", \"\")\n",
    "                sone = sone.replace(\".\", \"\")\n",
    "                sone = sone.replace(\"!\", \"\")\n",
    "                sone = sone.replace(\"?\", \"\")\n",
    "                hinne5[sone] = hinne5.get(sone, 0) + 1\n",
    "\n",
    "        if hinnang == 3 or hinnang == 2 or hinnang == 1:\n",
    "            for sone in jagatud:\n",
    "                sone = sone.replace(\",\", \"\")\n",
    "                sone = sone.replace(\".\", \"\")\n",
    "                sone = sone.replace(\"!\", \"\")\n",
    "                sone = sone.replace(\"?\", \"\")\n",
    "                hinne1_3[sone] = hinne5.get(sone, 0) + 1\n",
    "\n",
    "    loengu_nr += 1\n",
    "\n",
    "\n",
    "list5 = {y: x for x, y in hinne5.items()}.items()\n",
    "list1_3 = {y: x for x, y in hinne1_3.items()}.items()\n"
   ]
  },
  {
   "cell_type": "code",
   "execution_count": 18,
   "metadata": {
    "colab": {
     "base_uri": "https://localhost:8080/",
     "height": 17
    },
    "executionInfo": {
     "elapsed": 276,
     "status": "ok",
     "timestamp": 1671051179208,
     "user": {
      "displayName": "Anette Habanen",
      "userId": "04324864666478201317"
     },
     "user_tz": -120
    },
    "id": "BT82nWL0YG9d",
    "outputId": "864a9d53-b005-4258-f6a4-78114a3ac7b4"
   },
   "outputs": [],
   "source": [
    "andmed_faili_5 = pd.DataFrame(list5, columns = [\"kordused\", \"sone\"])\n",
    "eksport_faili_nimi_5 = 'sonapilv5.csv'\n",
    "andmed_faili_5.to_csv(eksport_faili_nimi_5, sep=',', encoding='utf-8',index=False, header=False, columns = [\"kordused\", \"sone\"])"
   ]
  },
  {
   "cell_type": "code",
   "execution_count": 19,
   "metadata": {
    "colab": {
     "base_uri": "https://localhost:8080/",
     "height": 17
    },
    "executionInfo": {
     "elapsed": 269,
     "status": "ok",
     "timestamp": 1671092964912,
     "user": {
      "displayName": "Anette Habanen",
      "userId": "04324864666478201317"
     },
     "user_tz": -120
    },
    "id": "iuxYSCfZWdIr",
    "outputId": "d5d092e9-468f-42f1-9eb5-92a625305a68"
   },
   "outputs": [],
   "source": [
    "andmed_faili_1_3 = pd.DataFrame(list1_3, columns = [\"kordused\", \"sone\"])\n",
    "eksport_faili_nimi_1_3 = 'sonapilv1_3.csv'\n",
    "andmed_faili_1_3.to_csv(eksport_faili_nimi_1_3, sep=',', encoding='utf-8',index=False, header=False, columns = [\"kordused\", \"sone\"])"
   ]
  }
 ],
 "metadata": {
  "colab": {
   "provenance": []
  },
  "kernelspec": {
   "display_name": "Python 3",
   "language": "python",
   "name": "python3"
  },
  "language_info": {
   "codemirror_mode": {
    "name": "ipython",
    "version": 3
   },
   "file_extension": ".py",
   "mimetype": "text/x-python",
   "name": "python",
   "nbconvert_exporter": "python",
   "pygments_lexer": "ipython3",
   "version": "3.8.8"
  }
 },
 "nbformat": 4,
 "nbformat_minor": 1
}

{
 "cells": [
  {
   "cell_type": "markdown",
   "metadata": {
    "id": "RKgf4Fl3KQVf"
   },
   "source": [
    "Selle skriptiga töötleme tudengitelt saadud infot, et luua fail veebilehtede rühmade moodustamise jaoks."
   ]
  },
  {
   "cell_type": "code",
   "execution_count": 3,
   "metadata": {
    "colab": {
     "base_uri": "https://localhost:8080/",
     "height": 219
    },
    "id": "b3J9Z83d1JTP",
    "outputId": "7c18163a-818f-4781-d8fb-f1c17569026e"
   },
   "outputs": [],
   "source": [
    "import pandas as pd\n",
    "import numpy as np\n",
    "\n",
    "# Laeme failid projekti\n",
    "\n",
    "moodleTudengid = pd.read_csv(\"tudengite_nimekiri_moodlest.csv\")\n",
    "semestriAlgus = pd.read_csv(\"semestri_alguse_kusitluse_vastused.csv\")\n",
    "\n",
    "moodleTudengid = moodleTudengid[[\"Eesnimi\", \"Perenimi\", \"Meiliaadress\"]]\n",
    "semestriAlgus = semestriAlgus[[\"Kasutaja täisnimi\", \"Sugu\", \"Kas sa oskad vene keelt?\"]]\n",
    "\n",
    "moodleTudengid = np.array(moodleTudengid)\n",
    "semestriAlgus = np.array(semestriAlgus)\n",
    "\n",
    "# Andmete töötlemine\n",
    "# NB! Jooksuta kõigepealt järgmist cell'i, et see cell töötaks!!\n",
    "tudengid = tabelite_yhildamine()\n",
    "\n",
    "\n",
    "# Koostame faili\n",
    "df = pd.DataFrame(tudengid, columns = ['Eesnimi', 'Perenimi', 'Sugu', 'Keel', 'Meiliaadress'])\n",
    "df.to_excel('tudengite_nimekiri_sugu_keel.xlsx', encoding='UTF16')"
   ]
  },
  {
   "cell_type": "code",
   "execution_count": 2,
   "metadata": {
    "id": "r_u_qg1Q6BMN"
   },
   "outputs": [],
   "source": [
    "# Igale tudengile leiame küsimustiku põhjal soo ja vene keele oskuse.\n",
    "\n",
    "def tabelite_yhildamine():\n",
    "    tudengid = []\n",
    "\n",
    "    # Käime läbi kõik tudengid\n",
    "    for tudeng in moodleTudengid:\n",
    "\n",
    "        keel = '-'\n",
    "        sugu = '-'\n",
    "        # Leiame tudengi vene keele oskuse ja soo\n",
    "        for vastus in semestriAlgus:\n",
    "            if (vastus[0] == tudeng[0] + \" \" + tudeng[1]):\n",
    "\n",
    "                # Kui tudeng ei vastanud, et ta on mees (ehk vastas 'naine' või 'mitte-binaarne/ei soovi vastata'), siis need tudengid koondame kõik ühte vähemusgruppi, mille nimi on 'n'.\n",
    "                tudengi_sugu = vastus[1]\n",
    "                if (tudengi_sugu == \"Mees\") :\n",
    "                    sugu = 'm'\n",
    "                else:\n",
    "                    sugu = 'n'\n",
    "\n",
    "                vene_keel = vastus[2]\n",
    "                if (vene_keel == \"jah\") :\n",
    "                    keel = 'v'\n",
    "                    break\n",
    "                else:\n",
    "                    keel = 'e'\n",
    "                    break\n",
    "\n",
    "\n",
    "        uusrida = [tudeng[0], tudeng[1], sugu, keel, tudeng[2]]\n",
    "        tudengid.append(uusrida)\n",
    "\n",
    "    return(tudengid)"
   ]
  }
 ],
 "metadata": {
  "colab": {
   "provenance": []
  },
  "kernelspec": {
   "display_name": "Python 3",
   "language": "python",
   "name": "python3"
  },
  "language_info": {
   "codemirror_mode": {
    "name": "ipython",
    "version": 3
   },
   "file_extension": ".py",
   "mimetype": "text/x-python",
   "name": "python",
   "nbconvert_exporter": "python",
   "pygments_lexer": "ipython3",
   "version": "3.8.8"
  }
 },
 "nbformat": 4,
 "nbformat_minor": 1
}

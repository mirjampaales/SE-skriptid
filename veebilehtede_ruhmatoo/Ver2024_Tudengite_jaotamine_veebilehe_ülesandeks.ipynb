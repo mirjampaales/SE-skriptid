{
 "cells": [
  {
   "cell_type": "markdown",
   "metadata": {
    "id": "nYHkAnwrUT3I"
   },
   "source": [
    "# Veebilehe gruppide genereerimine"
   ]
  },
  {
   "cell_type": "markdown",
   "metadata": {},
   "source": [
    "### Gruppide moodustamise loogika"
   ]
  },
  {
   "cell_type": "code",
   "execution_count": 7,
   "metadata": {
    "id": "xHkE5fL3Uq9M"
   },
   "outputs": [],
   "source": [
    "# Funktsioon gruppide moodustamiseks\n",
    "# data - array kõikidest tudengitest\n",
    "\n",
    "def gruppideMoodustamine(data):\n",
    "\n",
    "    # Siia kogume reeglitele vastavaid gruppe\n",
    "    grupid = []\n",
    "    # Teeme seda nii kaua, kuni kõik tudengid on ära jaotatud\n",
    "    while True:\n",
    "\n",
    "        if len(data) == 4: # Viimased 4 tudengit\n",
    "            grupp = []\n",
    "            grupp2 = []\n",
    "            rahvus = [data[0][3], data[1][3], data[2][3], data[3][3]]\n",
    "            sugu = [data[0][2], data[1][2], data[2][2], data[3][2]]\n",
    "\n",
    "            # Kui on 4 tudengi seas on 2 vene keelt rääkivat tudengit, siis tahame nad panna ühte gruppi\n",
    "            if rahvus.count(\"v\") == 2:\n",
    "                for tudeng in data:\n",
    "                    grupp.append(tudeng) if tudeng[3] == 'v' else grupp2.append(tudeng)\n",
    "            # Kui on 4 tudengi seas on 2 naist, siis tahame nad panna ühte gruppi (aga eelistame venekeelsete tudengite ühte gruppi panemist)\n",
    "            elif sugu.count(\"n\") == 2:\n",
    "                for tudeng in data:\n",
    "                    grupp.append(tudeng) if tudeng[2] == 'n' else grupp2.append(tudeng)\n",
    "            else:\n",
    "                # Moodustame nendest ühe grupi\n",
    "                grupp = [data[0], data[1]]\n",
    "                grupp2 = [data[2], data[3]]\n",
    "\n",
    "            grupid.extend((grupp, grupp2)) # Lisame selle grupi teiste moodustatud gruppide juurde\n",
    "            return grupid\n",
    "\n",
    "        if len(data) == 3: # Viimased 3 tudengit\n",
    "            grupp = [data[0], data[1], data[2]] #Moodustame tudengitest grupi\n",
    "            grupid.append(grupp) # Lisame grupi moodustatud gruppide hulka\n",
    "            return grupid\n",
    "\n",
    "\n",
    "        if len(data) == 2: # Viimased 2 tudengit\n",
    "            grupp = [data[0], data[1]] #Moodustame tudengitest grupi\n",
    "            grupid.append(grupp)  # Lisame grupi moodustatud gruppide hulka\n",
    "            return grupid\n",
    "\n",
    "\n",
    "        # Selle tsükliga kontrollin, et minu random numbrid oleksid kõik erinevad\n",
    "        while True:\n",
    "            tudengidIndeksid = np.random.randint(len(data), size=(1,3))\n",
    "            tudengidIndeksid.sort()\n",
    "            if len(np.unique(tudengidIndeksid[0])) == len(tudengidIndeksid[0]):\n",
    "                break\n",
    "\n",
    "        # Leiame vastavatel indeksitel olevad tudengid\n",
    "        tudeng1 = data[tudengidIndeksid[0][0]]\n",
    "        tudeng2 = data[tudengidIndeksid[0][1]]\n",
    "        tudeng3 = data[tudengidIndeksid[0][2]]\n",
    "\n",
    "        # Kontrolllime, kas need tudengid saavad olla ühes grupis\n",
    "        sugu = [tudeng1[2], tudeng2[2], tudeng3[2]]\n",
    "        rahvus = [tudeng1[3], tudeng2[3], tudeng3[3]]\n",
    "        murelaps = [tudeng1[4], tudeng2[4], tudeng3[4]]\n",
    "        if (sugu.count(\"n\") != 1) and (rahvus.count(\"v\") != 1) and murelaps.count(\"jah\") < 2:\n",
    "\n",
    "            # Moodustame nendest ühe grupi\n",
    "            grupp = [tudeng1, tudeng2, tudeng3]\n",
    "            # Lisame selle grupi teiste moodustatud gruppide juurde\n",
    "            grupid.append(grupp)\n",
    "            # Eemaldame datast\n",
    "            data = np.delete(data, tudengidIndeksid[0][2], 0)\n",
    "            data = np.delete(data, tudengidIndeksid[0][1], 0)\n",
    "            data = np.delete(data, tudengidIndeksid[0][0], 0)\n",
    "            type(grupp)"
   ]
  },
  {
   "cell_type": "markdown",
   "metadata": {},
   "source": [
    "### Funktsioonide välja kutsumine\n"
   ]
  },
  {
   "cell_type": "code",
   "execution_count": 3,
   "metadata": {},
   "outputs": [],
   "source": [
    "# Käivitada eelmise aasta faili korral\n",
    "import pandas as pd\n",
    "import numpy as np\n",
    "import random\n",
    "import time\n",
    "\n",
    "# NB! Kui failis 'tudengite_nimekiri_sugu_keel.xlsx' on tulpades Sugu või Keel vastuseid puudu, \n",
    "# siis tuleks need enne järgneva koodi jooksutamist ära täita.\n",
    "data = pd.read_excel(\"tudengite_nimekiri_sugu_keel_murelaps.xlsx\")\n",
    "data = data[[\"Eesnimi\", \"Perenimi\", \"Sugu\", \"Keel\", \"Murelaps\", \"Meiliaadress\"]]\n",
    "data = np.array(data)\n",
    "\n",
    "# Jaotame tudengid gruppideks\n",
    "moodustatudGrupid = gruppideMoodustamine(data)\n"
   ]
  },
  {
   "cell_type": "code",
   "execution_count": 9,
   "metadata": {},
   "outputs": [],
   "source": [
    "# 5-kohalised 'random' nimed gruppidele\n",
    "f = open('ryhmade_nimed.txt', 'r', encoding='utf-8')\n",
    "ryhmade_nimed = f.read().split('\\n')\n",
    "f.close()"
   ]
  },
  {
   "cell_type": "code",
   "execution_count": 10,
   "metadata": {},
   "outputs": [],
   "source": [
    "grupidFaili = []\n",
    "\n",
    "# Lisame moodustatud gruppidele rühmanime\n",
    "for i, grupp in enumerate(moodustatudGrupid):\n",
    "    rühmaNimi = ryhmade_nimed[i]\n",
    "    # Grupi esimene tudeng\n",
    "    tudeng1 = np.append(np.array(grupp[0]), rühmaNimi)\n",
    "    grupidFaili.append(tudeng1)\n",
    "    # Grupi teine tudeng\n",
    "    tudeng2 = np.append(np.array(grupp[1]), rühmaNimi)\n",
    "    grupidFaili.append(tudeng2)\n",
    "    if len(grupp) == 3: # Kui grupil on kolmas tudeng\n",
    "      tudeng3 = np.append(np.array(grupp[2]), rühmaNimi)\n",
    "      grupidFaili.append(tudeng3)"
   ]
  },
  {
   "cell_type": "markdown",
   "metadata": {},
   "source": [
    "### Tulemuste salvestamine"
   ]
  },
  {
   "cell_type": "code",
   "execution_count": 11,
   "metadata": {
    "colab": {
     "base_uri": "https://localhost:8080/",
     "height": 272
    },
    "id": "BGCVL5RIUwG2",
    "outputId": "a2957a67-caa7-457c-ab71-981fb547cf77"
   },
   "outputs": [],
   "source": [
    "# Tulemused .csv faili\n",
    "df = pd.DataFrame(grupidFaili, columns = ['Eesnimi', 'Perenimi', 'Sugu','Rahvus', 'Meiliaadress', 'Murelaps', 'Rühma nimi'])\n",
    "df.to_csv('tudengid_gruppidena_24.csv', sep=';', encoding='UTF16')"
   ]
  },
  {
   "cell_type": "code",
   "execution_count": 12,
   "metadata": {},
   "outputs": [],
   "source": [
    "# Tulemused .xlsx faili\n",
    "df.to_excel(\"tudengid_gruppidena_24.xlsx\") "
   ]
  }
 ],
 "metadata": {
  "colab": {
   "provenance": []
  },
  "kernelspec": {
   "display_name": "Python 3 (ipykernel)",
   "language": "python",
   "name": "python3"
  },
  "language_info": {
   "codemirror_mode": {
    "name": "ipython",
    "version": 3
   },
   "file_extension": ".py",
   "mimetype": "text/x-python",
   "name": "python",
   "nbconvert_exporter": "python",
   "pygments_lexer": "ipython3",
   "version": "3.12.7"
  }
 },
 "nbformat": 4,
 "nbformat_minor": 4
}
